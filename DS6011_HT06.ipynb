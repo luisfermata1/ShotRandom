{
  "nbformat": 4,
  "nbformat_minor": 0,
  "metadata": {
    "colab": {
      "name": "DS6011_HT06.ipynb",
      "provenance": [],
      "collapsed_sections": [],
      "toc_visible": true
    },
    "kernelspec": {
      "name": "python3",
      "display_name": "Python 3"
    },
    "language_info": {
      "name": "python"
    }
  },
  "cells": [
    {
      "cell_type": "markdown",
      "metadata": {
        "id": "saaO06RMwzGH"
      },
      "source": [
        "# Hoja de Trabajo \\# 6\n",
        "\n",
        "\n",
        "---\n",
        "\n",
        "\n",
        "por Josué Obregón <br>\n",
        "DS6011 - Feature Engineering <br>\n",
        "UVG Masters - Escuela de Negocios<br>\n"
      ]
    },
    {
      "cell_type": "markdown",
      "metadata": {
        "id": "w0-nImUHNxOv"
      },
      "source": [
        "## Objetivos\n",
        "\n",
        "El objetivo de esta hoja de trabajo  es presentar al estudiante diferentes técnicas selección de atributos.\n",
        "\n",
        "También se busca que el estudiante practique la utilización de éstas técnicas con las librerías disponibles en el lenguaje Python."
      ]
    },
    {
      "cell_type": "markdown",
      "metadata": {
        "id": "RYjZ_KEuTCTe"
      },
      "source": [
        "## Importación de librerías y carga de los datos\n",
        "\n",
        "Las librerías que importaremos para empezar son pandas y numpy para el manejo de los datos, y matplotlib, seaborn y plotly para la generación de visualizaciones. \n",
        "\n"
      ]
    },
    {
      "cell_type": "markdown",
      "metadata": {
        "id": "3xWTzcgYiK33"
      },
      "source": [
        "Primero hacemos un update a scikit-learn para poder utilizar la versión mas reciente"
      ]
    },
    {
      "cell_type": "code",
      "metadata": {
        "id": "E01KAqxVh-G2",
        "outputId": "00ba3939-5506-40d4-f8e7-4fbcbb80cb3b",
        "colab": {
          "base_uri": "https://localhost:8080/"
        }
      },
      "source": [
        "!pip install --upgrade scikit-learn"
      ],
      "execution_count": 105,
      "outputs": [
        {
          "output_type": "stream",
          "text": [
            "Requirement already up-to-date: scikit-learn in /usr/local/lib/python3.7/dist-packages (0.24.2)\n",
            "Requirement already satisfied, skipping upgrade: threadpoolctl>=2.0.0 in /usr/local/lib/python3.7/dist-packages (from scikit-learn) (2.1.0)\n",
            "Requirement already satisfied, skipping upgrade: joblib>=0.11 in /usr/local/lib/python3.7/dist-packages (from scikit-learn) (1.0.1)\n",
            "Requirement already satisfied, skipping upgrade: numpy>=1.13.3 in /usr/local/lib/python3.7/dist-packages (from scikit-learn) (1.19.5)\n",
            "Requirement already satisfied, skipping upgrade: scipy>=0.19.1 in /usr/local/lib/python3.7/dist-packages (from scikit-learn) (1.4.1)\n"
          ],
          "name": "stdout"
        }
      ]
    },
    {
      "cell_type": "code",
      "metadata": {
        "id": "EoXELFC48mlh"
      },
      "source": [
        "import pandas as pd\n",
        "import numpy as np\n",
        "import matplotlib.pyplot as plt\n",
        "import seaborn as sns\n",
        "import plotly.express as px\n",
        "import plotly.graph_objects as go"
      ],
      "execution_count": 106,
      "outputs": []
    },
    {
      "cell_type": "markdown",
      "metadata": {
        "id": "D2RN6ldfA9Mb"
      },
      "source": [
        "### Cargando los datos"
      ]
    },
    {
      "cell_type": "code",
      "metadata": {
        "id": "U1qfjKMGBAyj"
      },
      "source": [
        "from sklearn.datasets import fetch_openml\n",
        "from sklearn.preprocessing import LabelEncoder\n",
        "from sklearn.model_selection import train_test_split"
      ],
      "execution_count": 107,
      "outputs": []
    },
    {
      "cell_type": "code",
      "metadata": {
        "id": "xSUrDnSQBFoe"
      },
      "source": [
        "credit_g =  fetch_openml('credit-g') # https://www.openml.org/t/31"
      ],
      "execution_count": 108,
      "outputs": []
    },
    {
      "cell_type": "code",
      "metadata": {
        "id": "5SQfRjhbBhal",
        "outputId": "f417d77f-5ae1-4713-d579-f8352b86360d",
        "colab": {
          "base_uri": "https://localhost:8080/"
        }
      },
      "source": [
        "credit_g.keys()"
      ],
      "execution_count": 109,
      "outputs": [
        {
          "output_type": "execute_result",
          "data": {
            "text/plain": [
              "dict_keys(['data', 'target', 'frame', 'categories', 'feature_names', 'target_names', 'DESCR', 'details', 'url'])"
            ]
          },
          "metadata": {
            "tags": []
          },
          "execution_count": 109
        }
      ]
    },
    {
      "cell_type": "code",
      "metadata": {
        "id": "kYdAx40dBFrS",
        "outputId": "575cebda-20c1-4851-b880-43b3462f160b",
        "colab": {
          "base_uri": "https://localhost:8080/"
        }
      },
      "source": [
        "print(credit_g['DESCR'])"
      ],
      "execution_count": 110,
      "outputs": [
        {
          "output_type": "stream",
          "text": [
            "**Author**: Dr. Hans Hofmann  \n",
            "**Source**: [UCI](https://archive.ics.uci.edu/ml/datasets/statlog+(german+credit+data)) - 1994    \n",
            "**Please cite**: [UCI](https://archive.ics.uci.edu/ml/citation_policy.html)\n",
            "\n",
            "**German Credit dataset**  \n",
            "This dataset classifies people described by a set of attributes as good or bad credit risks.\n",
            "\n",
            "This dataset comes with a cost matrix: \n",
            "``` \n",
            "Good  Bad (predicted)  \n",
            "Good   0    1   (actual)  \n",
            "Bad    5    0  \n",
            "```\n",
            "\n",
            "It is worse to class a customer as good when they are bad (5), than it is to class a customer as bad when they are good (1).  \n",
            "\n",
            "### Attribute description  \n",
            "\n",
            "1. Status of existing checking account, in Deutsche Mark.  \n",
            "2. Duration in months  \n",
            "3. Credit history (credits taken, paid back duly, delays, critical accounts)  \n",
            "4. Purpose of the credit (car, television,...)  \n",
            "5. Credit amount  \n",
            "6. Status of savings account/bonds, in Deutsche Mark.  \n",
            "7. Present employment, in number of years.  \n",
            "8. Installment rate in percentage of disposable income  \n",
            "9. Personal status (married, single,...) and sex  \n",
            "10. Other debtors / guarantors  \n",
            "11. Present residence since X years  \n",
            "12. Property (e.g. real estate)  \n",
            "13. Age in years  \n",
            "14. Other installment plans (banks, stores)  \n",
            "15. Housing (rent, own,...)  \n",
            "16. Number of existing credits at this bank  \n",
            "17. Job  \n",
            "18. Number of people being liable to provide maintenance for  \n",
            "19. Telephone (yes,no)  \n",
            "20. Foreign worker (yes,no)\n",
            "\n",
            "Downloaded from openml.org.\n"
          ],
          "name": "stdout"
        }
      ]
    },
    {
      "cell_type": "code",
      "metadata": {
        "id": "aLbwlg78BFts",
        "outputId": "c0049a4a-8bcb-4305-9c6b-6c3b42a1bc06",
        "colab": {
          "base_uri": "https://localhost:8080/",
          "height": 258
        }
      },
      "source": [
        "df_credit = credit_g['data']\n",
        "lbl_enc = LabelEncoder()\n",
        "df_credit['class']= lbl_enc.fit_transform(credit_g['target'])\n",
        "df_credit.head()"
      ],
      "execution_count": 111,
      "outputs": [
        {
          "output_type": "execute_result",
          "data": {
            "text/html": [
              "<div>\n",
              "<style scoped>\n",
              "    .dataframe tbody tr th:only-of-type {\n",
              "        vertical-align: middle;\n",
              "    }\n",
              "\n",
              "    .dataframe tbody tr th {\n",
              "        vertical-align: top;\n",
              "    }\n",
              "\n",
              "    .dataframe thead th {\n",
              "        text-align: right;\n",
              "    }\n",
              "</style>\n",
              "<table border=\"1\" class=\"dataframe\">\n",
              "  <thead>\n",
              "    <tr style=\"text-align: right;\">\n",
              "      <th></th>\n",
              "      <th>checking_status</th>\n",
              "      <th>duration</th>\n",
              "      <th>credit_history</th>\n",
              "      <th>purpose</th>\n",
              "      <th>credit_amount</th>\n",
              "      <th>savings_status</th>\n",
              "      <th>employment</th>\n",
              "      <th>installment_commitment</th>\n",
              "      <th>personal_status</th>\n",
              "      <th>other_parties</th>\n",
              "      <th>residence_since</th>\n",
              "      <th>property_magnitude</th>\n",
              "      <th>age</th>\n",
              "      <th>other_payment_plans</th>\n",
              "      <th>housing</th>\n",
              "      <th>existing_credits</th>\n",
              "      <th>job</th>\n",
              "      <th>num_dependents</th>\n",
              "      <th>own_telephone</th>\n",
              "      <th>foreign_worker</th>\n",
              "      <th>class</th>\n",
              "    </tr>\n",
              "  </thead>\n",
              "  <tbody>\n",
              "    <tr>\n",
              "      <th>0</th>\n",
              "      <td>&lt;0</td>\n",
              "      <td>6.0</td>\n",
              "      <td>critical/other existing credit</td>\n",
              "      <td>radio/tv</td>\n",
              "      <td>1169.0</td>\n",
              "      <td>no known savings</td>\n",
              "      <td>&gt;=7</td>\n",
              "      <td>4.0</td>\n",
              "      <td>male single</td>\n",
              "      <td>none</td>\n",
              "      <td>4.0</td>\n",
              "      <td>real estate</td>\n",
              "      <td>67.0</td>\n",
              "      <td>none</td>\n",
              "      <td>own</td>\n",
              "      <td>2.0</td>\n",
              "      <td>skilled</td>\n",
              "      <td>1.0</td>\n",
              "      <td>yes</td>\n",
              "      <td>yes</td>\n",
              "      <td>1</td>\n",
              "    </tr>\n",
              "    <tr>\n",
              "      <th>1</th>\n",
              "      <td>0&lt;=X&lt;200</td>\n",
              "      <td>48.0</td>\n",
              "      <td>existing paid</td>\n",
              "      <td>radio/tv</td>\n",
              "      <td>5951.0</td>\n",
              "      <td>&lt;100</td>\n",
              "      <td>1&lt;=X&lt;4</td>\n",
              "      <td>2.0</td>\n",
              "      <td>female div/dep/mar</td>\n",
              "      <td>none</td>\n",
              "      <td>2.0</td>\n",
              "      <td>real estate</td>\n",
              "      <td>22.0</td>\n",
              "      <td>none</td>\n",
              "      <td>own</td>\n",
              "      <td>1.0</td>\n",
              "      <td>skilled</td>\n",
              "      <td>1.0</td>\n",
              "      <td>none</td>\n",
              "      <td>yes</td>\n",
              "      <td>0</td>\n",
              "    </tr>\n",
              "    <tr>\n",
              "      <th>2</th>\n",
              "      <td>no checking</td>\n",
              "      <td>12.0</td>\n",
              "      <td>critical/other existing credit</td>\n",
              "      <td>education</td>\n",
              "      <td>2096.0</td>\n",
              "      <td>&lt;100</td>\n",
              "      <td>4&lt;=X&lt;7</td>\n",
              "      <td>2.0</td>\n",
              "      <td>male single</td>\n",
              "      <td>none</td>\n",
              "      <td>3.0</td>\n",
              "      <td>real estate</td>\n",
              "      <td>49.0</td>\n",
              "      <td>none</td>\n",
              "      <td>own</td>\n",
              "      <td>1.0</td>\n",
              "      <td>unskilled resident</td>\n",
              "      <td>2.0</td>\n",
              "      <td>none</td>\n",
              "      <td>yes</td>\n",
              "      <td>1</td>\n",
              "    </tr>\n",
              "    <tr>\n",
              "      <th>3</th>\n",
              "      <td>&lt;0</td>\n",
              "      <td>42.0</td>\n",
              "      <td>existing paid</td>\n",
              "      <td>furniture/equipment</td>\n",
              "      <td>7882.0</td>\n",
              "      <td>&lt;100</td>\n",
              "      <td>4&lt;=X&lt;7</td>\n",
              "      <td>2.0</td>\n",
              "      <td>male single</td>\n",
              "      <td>guarantor</td>\n",
              "      <td>4.0</td>\n",
              "      <td>life insurance</td>\n",
              "      <td>45.0</td>\n",
              "      <td>none</td>\n",
              "      <td>for free</td>\n",
              "      <td>1.0</td>\n",
              "      <td>skilled</td>\n",
              "      <td>2.0</td>\n",
              "      <td>none</td>\n",
              "      <td>yes</td>\n",
              "      <td>1</td>\n",
              "    </tr>\n",
              "    <tr>\n",
              "      <th>4</th>\n",
              "      <td>&lt;0</td>\n",
              "      <td>24.0</td>\n",
              "      <td>delayed previously</td>\n",
              "      <td>new car</td>\n",
              "      <td>4870.0</td>\n",
              "      <td>&lt;100</td>\n",
              "      <td>1&lt;=X&lt;4</td>\n",
              "      <td>3.0</td>\n",
              "      <td>male single</td>\n",
              "      <td>none</td>\n",
              "      <td>4.0</td>\n",
              "      <td>no known property</td>\n",
              "      <td>53.0</td>\n",
              "      <td>none</td>\n",
              "      <td>for free</td>\n",
              "      <td>2.0</td>\n",
              "      <td>skilled</td>\n",
              "      <td>2.0</td>\n",
              "      <td>none</td>\n",
              "      <td>yes</td>\n",
              "      <td>0</td>\n",
              "    </tr>\n",
              "  </tbody>\n",
              "</table>\n",
              "</div>"
            ],
            "text/plain": [
              "  checking_status  duration  ... foreign_worker class\n",
              "0              <0       6.0  ...            yes     1\n",
              "1        0<=X<200      48.0  ...            yes     0\n",
              "2     no checking      12.0  ...            yes     1\n",
              "3              <0      42.0  ...            yes     1\n",
              "4              <0      24.0  ...            yes     0\n",
              "\n",
              "[5 rows x 21 columns]"
            ]
          },
          "metadata": {
            "tags": []
          },
          "execution_count": 111
        }
      ]
    },
    {
      "cell_type": "markdown",
      "metadata": {
        "id": "35BTVieVKnBm"
      },
      "source": [
        "Generamos el conjunto de datos de entrenamiento y el de prueba"
      ]
    },
    {
      "cell_type": "code",
      "metadata": {
        "id": "U4Zj1Ex6KKgM",
        "outputId": "95337df1-6c25-4a5c-d76c-afddf5f5f7cf",
        "colab": {
          "base_uri": "https://localhost:8080/"
        }
      },
      "source": [
        "X_train, X_test, y_train, y_test = train_test_split(df_credit.drop(['class'],axis=1),df_credit['class'],train_size=0.80, random_state=6011, shuffle=True)\n",
        "print(X_train.shape)\n",
        "print(y_train.shape)\n",
        "print(X_test.shape)\n",
        "print(y_test.shape)"
      ],
      "execution_count": 112,
      "outputs": [
        {
          "output_type": "stream",
          "text": [
            "(800, 20)\n",
            "(800,)\n",
            "(200, 20)\n",
            "(200,)\n"
          ],
          "name": "stdout"
        }
      ]
    },
    {
      "cell_type": "markdown",
      "metadata": {
        "id": "3vtAGMPVIgp6"
      },
      "source": [
        "#### Codificando variables categóricas"
      ]
    },
    {
      "cell_type": "code",
      "metadata": {
        "id": "aJpOmmoqdQyM",
        "outputId": "de4f0e6c-ae93-4ccb-c13e-6385e8126e77",
        "colab": {
          "base_uri": "https://localhost:8080/"
        }
      },
      "source": [
        "!pip install category_encoders"
      ],
      "execution_count": 113,
      "outputs": [
        {
          "output_type": "stream",
          "text": [
            "Requirement already satisfied: category_encoders in /usr/local/lib/python3.7/dist-packages (2.2.2)\n",
            "Requirement already satisfied: scipy>=1.0.0 in /usr/local/lib/python3.7/dist-packages (from category_encoders) (1.4.1)\n",
            "Requirement already satisfied: numpy>=1.14.0 in /usr/local/lib/python3.7/dist-packages (from category_encoders) (1.19.5)\n",
            "Requirement already satisfied: scikit-learn>=0.20.0 in /usr/local/lib/python3.7/dist-packages (from category_encoders) (0.24.2)\n",
            "Requirement already satisfied: statsmodels>=0.9.0 in /usr/local/lib/python3.7/dist-packages (from category_encoders) (0.10.2)\n",
            "Requirement already satisfied: patsy>=0.5.1 in /usr/local/lib/python3.7/dist-packages (from category_encoders) (0.5.1)\n",
            "Requirement already satisfied: pandas>=0.21.1 in /usr/local/lib/python3.7/dist-packages (from category_encoders) (1.1.5)\n",
            "Requirement already satisfied: joblib>=0.11 in /usr/local/lib/python3.7/dist-packages (from scikit-learn>=0.20.0->category_encoders) (1.0.1)\n",
            "Requirement already satisfied: threadpoolctl>=2.0.0 in /usr/local/lib/python3.7/dist-packages (from scikit-learn>=0.20.0->category_encoders) (2.1.0)\n",
            "Requirement already satisfied: six in /usr/local/lib/python3.7/dist-packages (from patsy>=0.5.1->category_encoders) (1.15.0)\n",
            "Requirement already satisfied: python-dateutil>=2.7.3 in /usr/local/lib/python3.7/dist-packages (from pandas>=0.21.1->category_encoders) (2.8.1)\n",
            "Requirement already satisfied: pytz>=2017.2 in /usr/local/lib/python3.7/dist-packages (from pandas>=0.21.1->category_encoders) (2018.9)\n"
          ],
          "name": "stdout"
        }
      ]
    },
    {
      "cell_type": "code",
      "metadata": {
        "id": "DPjxMGjDdV0k"
      },
      "source": [
        "from category_encoders import MEstimateEncoder"
      ],
      "execution_count": 114,
      "outputs": []
    },
    {
      "cell_type": "code",
      "metadata": {
        "id": "kJCDGOZ_EJnu"
      },
      "source": [
        "cat_cols = ['checking_status','credit_history','purpose','savings_status','employment','personal_status','other_parties','residence_since','property_magnitude','other_payment_plans','housing','job','own_telephone','foreign_worker']"
      ],
      "execution_count": 115,
      "outputs": []
    },
    {
      "cell_type": "code",
      "metadata": {
        "id": "pdO125jHdcsY"
      },
      "source": [
        "mest_enc = MEstimateEncoder( cols=cat_cols)"
      ],
      "execution_count": 116,
      "outputs": []
    },
    {
      "cell_type": "code",
      "metadata": {
        "id": "16qqaIGteC-A",
        "outputId": "dce1a499-6926-4954-f291-20060609c01b",
        "colab": {
          "base_uri": "https://localhost:8080/"
        }
      },
      "source": [
        "X_train_cod1 = mest_enc.fit_transform(X_train, y_train)"
      ],
      "execution_count": 117,
      "outputs": [
        {
          "output_type": "stream",
          "text": [
            "/usr/local/lib/python3.7/dist-packages/category_encoders/utils.py:21: FutureWarning:\n",
            "\n",
            "is_categorical is deprecated and will be removed in a future version.  Use is_categorical_dtype instead\n",
            "\n"
          ],
          "name": "stderr"
        }
      ]
    },
    {
      "cell_type": "code",
      "metadata": {
        "id": "phDz1BK0eDAy",
        "outputId": "ea876b6b-5108-497e-c7eb-1ba16798a437",
        "colab": {
          "base_uri": "https://localhost:8080/",
          "height": 439
        }
      },
      "source": [
        "X_train_cod1"
      ],
      "execution_count": 118,
      "outputs": [
        {
          "output_type": "execute_result",
          "data": {
            "text/html": [
              "<div>\n",
              "<style scoped>\n",
              "    .dataframe tbody tr th:only-of-type {\n",
              "        vertical-align: middle;\n",
              "    }\n",
              "\n",
              "    .dataframe tbody tr th {\n",
              "        vertical-align: top;\n",
              "    }\n",
              "\n",
              "    .dataframe thead th {\n",
              "        text-align: right;\n",
              "    }\n",
              "</style>\n",
              "<table border=\"1\" class=\"dataframe\">\n",
              "  <thead>\n",
              "    <tr style=\"text-align: right;\">\n",
              "      <th></th>\n",
              "      <th>checking_status</th>\n",
              "      <th>duration</th>\n",
              "      <th>credit_history</th>\n",
              "      <th>purpose</th>\n",
              "      <th>credit_amount</th>\n",
              "      <th>savings_status</th>\n",
              "      <th>employment</th>\n",
              "      <th>installment_commitment</th>\n",
              "      <th>personal_status</th>\n",
              "      <th>other_parties</th>\n",
              "      <th>residence_since</th>\n",
              "      <th>property_magnitude</th>\n",
              "      <th>age</th>\n",
              "      <th>other_payment_plans</th>\n",
              "      <th>housing</th>\n",
              "      <th>existing_credits</th>\n",
              "      <th>job</th>\n",
              "      <th>num_dependents</th>\n",
              "      <th>own_telephone</th>\n",
              "      <th>foreign_worker</th>\n",
              "    </tr>\n",
              "  </thead>\n",
              "  <tbody>\n",
              "    <tr>\n",
              "      <th>621</th>\n",
              "      <td>0.874023</td>\n",
              "      <td>18.0</td>\n",
              "      <td>0.824947</td>\n",
              "      <td>0.607955</td>\n",
              "      <td>1530.0</td>\n",
              "      <td>0.622500</td>\n",
              "      <td>0.683036</td>\n",
              "      <td>3.0</td>\n",
              "      <td>0.723900</td>\n",
              "      <td>0.688523</td>\n",
              "      <td>0.672262</td>\n",
              "      <td>0.672126</td>\n",
              "      <td>32.0</td>\n",
              "      <td>0.568638</td>\n",
              "      <td>0.724373</td>\n",
              "      <td>2.0</td>\n",
              "      <td>0.692749</td>\n",
              "      <td>1.0</td>\n",
              "      <td>0.674349</td>\n",
              "      <td>0.680114</td>\n",
              "    </tr>\n",
              "    <tr>\n",
              "      <th>199</th>\n",
              "      <td>0.611944</td>\n",
              "      <td>18.0</td>\n",
              "      <td>0.671875</td>\n",
              "      <td>0.679789</td>\n",
              "      <td>4297.0</td>\n",
              "      <td>0.622500</td>\n",
              "      <td>0.737377</td>\n",
              "      <td>4.0</td>\n",
              "      <td>0.597384</td>\n",
              "      <td>0.688523</td>\n",
              "      <td>0.709500</td>\n",
              "      <td>0.550305</td>\n",
              "      <td>40.0</td>\n",
              "      <td>0.712270</td>\n",
              "      <td>0.724373</td>\n",
              "      <td>1.0</td>\n",
              "      <td>0.629808</td>\n",
              "      <td>1.0</td>\n",
              "      <td>0.707104</td>\n",
              "      <td>0.680114</td>\n",
              "    </tr>\n",
              "    <tr>\n",
              "      <th>360</th>\n",
              "      <td>0.611944</td>\n",
              "      <td>18.0</td>\n",
              "      <td>0.663586</td>\n",
              "      <td>0.556090</td>\n",
              "      <td>1239.0</td>\n",
              "      <td>0.803272</td>\n",
              "      <td>0.683036</td>\n",
              "      <td>4.0</td>\n",
              "      <td>0.723900</td>\n",
              "      <td>0.688523</td>\n",
              "      <td>0.681835</td>\n",
              "      <td>0.550305</td>\n",
              "      <td>61.0</td>\n",
              "      <td>0.712270</td>\n",
              "      <td>0.586596</td>\n",
              "      <td>1.0</td>\n",
              "      <td>0.692749</td>\n",
              "      <td>1.0</td>\n",
              "      <td>0.674349</td>\n",
              "      <td>0.680114</td>\n",
              "    </tr>\n",
              "    <tr>\n",
              "      <th>65</th>\n",
              "      <td>0.874023</td>\n",
              "      <td>27.0</td>\n",
              "      <td>0.663586</td>\n",
              "      <td>0.634375</td>\n",
              "      <td>5190.0</td>\n",
              "      <td>0.803272</td>\n",
              "      <td>0.737377</td>\n",
              "      <td>4.0</td>\n",
              "      <td>0.723900</td>\n",
              "      <td>0.688523</td>\n",
              "      <td>0.681835</td>\n",
              "      <td>0.672126</td>\n",
              "      <td>48.0</td>\n",
              "      <td>0.712270</td>\n",
              "      <td>0.724373</td>\n",
              "      <td>4.0</td>\n",
              "      <td>0.692749</td>\n",
              "      <td>2.0</td>\n",
              "      <td>0.707104</td>\n",
              "      <td>0.680114</td>\n",
              "    </tr>\n",
              "    <tr>\n",
              "      <th>981</th>\n",
              "      <td>0.874023</td>\n",
              "      <td>48.0</td>\n",
              "      <td>0.663586</td>\n",
              "      <td>0.638117</td>\n",
              "      <td>4844.0</td>\n",
              "      <td>0.622500</td>\n",
              "      <td>0.593750</td>\n",
              "      <td>3.0</td>\n",
              "      <td>0.723900</td>\n",
              "      <td>0.688523</td>\n",
              "      <td>0.672262</td>\n",
              "      <td>0.679136</td>\n",
              "      <td>33.0</td>\n",
              "      <td>0.568638</td>\n",
              "      <td>0.596391</td>\n",
              "      <td>1.0</td>\n",
              "      <td>0.629808</td>\n",
              "      <td>1.0</td>\n",
              "      <td>0.707104</td>\n",
              "      <td>0.680114</td>\n",
              "    </tr>\n",
              "    <tr>\n",
              "      <th>...</th>\n",
              "      <td>...</td>\n",
              "      <td>...</td>\n",
              "      <td>...</td>\n",
              "      <td>...</td>\n",
              "      <td>...</td>\n",
              "      <td>...</td>\n",
              "      <td>...</td>\n",
              "      <td>...</td>\n",
              "      <td>...</td>\n",
              "      <td>...</td>\n",
              "      <td>...</td>\n",
              "      <td>...</td>\n",
              "      <td>...</td>\n",
              "      <td>...</td>\n",
              "      <td>...</td>\n",
              "      <td>...</td>\n",
              "      <td>...</td>\n",
              "      <td>...</td>\n",
              "      <td>...</td>\n",
              "      <td>...</td>\n",
              "    </tr>\n",
              "    <tr>\n",
              "      <th>187</th>\n",
              "      <td>0.611944</td>\n",
              "      <td>16.0</td>\n",
              "      <td>0.824947</td>\n",
              "      <td>0.607955</td>\n",
              "      <td>1175.0</td>\n",
              "      <td>0.622500</td>\n",
              "      <td>0.593750</td>\n",
              "      <td>2.0</td>\n",
              "      <td>0.723900</td>\n",
              "      <td>0.688523</td>\n",
              "      <td>0.709500</td>\n",
              "      <td>0.679136</td>\n",
              "      <td>68.0</td>\n",
              "      <td>0.712270</td>\n",
              "      <td>0.586596</td>\n",
              "      <td>3.0</td>\n",
              "      <td>0.593750</td>\n",
              "      <td>1.0</td>\n",
              "      <td>0.707104</td>\n",
              "      <td>0.680114</td>\n",
              "    </tr>\n",
              "    <tr>\n",
              "      <th>478</th>\n",
              "      <td>0.611944</td>\n",
              "      <td>12.0</td>\n",
              "      <td>0.663586</td>\n",
              "      <td>0.638117</td>\n",
              "      <td>1037.0</td>\n",
              "      <td>0.681882</td>\n",
              "      <td>0.784052</td>\n",
              "      <td>3.0</td>\n",
              "      <td>0.723900</td>\n",
              "      <td>0.688523</td>\n",
              "      <td>0.681835</td>\n",
              "      <td>0.785278</td>\n",
              "      <td>39.0</td>\n",
              "      <td>0.712270</td>\n",
              "      <td>0.724373</td>\n",
              "      <td>1.0</td>\n",
              "      <td>0.724124</td>\n",
              "      <td>1.0</td>\n",
              "      <td>0.674349</td>\n",
              "      <td>0.680114</td>\n",
              "    </tr>\n",
              "    <tr>\n",
              "      <th>559</th>\n",
              "      <td>0.611944</td>\n",
              "      <td>18.0</td>\n",
              "      <td>0.824947</td>\n",
              "      <td>0.679789</td>\n",
              "      <td>1928.0</td>\n",
              "      <td>0.622500</td>\n",
              "      <td>0.558067</td>\n",
              "      <td>2.0</td>\n",
              "      <td>0.723900</td>\n",
              "      <td>0.688523</td>\n",
              "      <td>0.672262</td>\n",
              "      <td>0.785278</td>\n",
              "      <td>31.0</td>\n",
              "      <td>0.712270</td>\n",
              "      <td>0.724373</td>\n",
              "      <td>2.0</td>\n",
              "      <td>0.724124</td>\n",
              "      <td>1.0</td>\n",
              "      <td>0.674349</td>\n",
              "      <td>0.680114</td>\n",
              "    </tr>\n",
              "    <tr>\n",
              "      <th>305</th>\n",
              "      <td>0.874023</td>\n",
              "      <td>6.0</td>\n",
              "      <td>0.663586</td>\n",
              "      <td>0.679789</td>\n",
              "      <td>1543.0</td>\n",
              "      <td>0.876453</td>\n",
              "      <td>0.683036</td>\n",
              "      <td>4.0</td>\n",
              "      <td>0.597384</td>\n",
              "      <td>0.688523</td>\n",
              "      <td>0.672262</td>\n",
              "      <td>0.785278</td>\n",
              "      <td>33.0</td>\n",
              "      <td>0.712270</td>\n",
              "      <td>0.724373</td>\n",
              "      <td>1.0</td>\n",
              "      <td>0.692749</td>\n",
              "      <td>1.0</td>\n",
              "      <td>0.674349</td>\n",
              "      <td>0.680114</td>\n",
              "    </tr>\n",
              "    <tr>\n",
              "      <th>243</th>\n",
              "      <td>0.874023</td>\n",
              "      <td>12.0</td>\n",
              "      <td>0.824947</td>\n",
              "      <td>0.638117</td>\n",
              "      <td>1185.0</td>\n",
              "      <td>0.622500</td>\n",
              "      <td>0.683036</td>\n",
              "      <td>3.0</td>\n",
              "      <td>0.623214</td>\n",
              "      <td>0.688523</td>\n",
              "      <td>0.672262</td>\n",
              "      <td>0.785278</td>\n",
              "      <td>27.0</td>\n",
              "      <td>0.712270</td>\n",
              "      <td>0.724373</td>\n",
              "      <td>2.0</td>\n",
              "      <td>0.692749</td>\n",
              "      <td>1.0</td>\n",
              "      <td>0.674349</td>\n",
              "      <td>0.680114</td>\n",
              "    </tr>\n",
              "  </tbody>\n",
              "</table>\n",
              "<p>800 rows × 20 columns</p>\n",
              "</div>"
            ],
            "text/plain": [
              "     checking_status  duration  ...  own_telephone  foreign_worker\n",
              "621         0.874023      18.0  ...       0.674349        0.680114\n",
              "199         0.611944      18.0  ...       0.707104        0.680114\n",
              "360         0.611944      18.0  ...       0.674349        0.680114\n",
              "65          0.874023      27.0  ...       0.707104        0.680114\n",
              "981         0.874023      48.0  ...       0.707104        0.680114\n",
              "..               ...       ...  ...            ...             ...\n",
              "187         0.611944      16.0  ...       0.707104        0.680114\n",
              "478         0.611944      12.0  ...       0.674349        0.680114\n",
              "559         0.611944      18.0  ...       0.674349        0.680114\n",
              "305         0.874023       6.0  ...       0.674349        0.680114\n",
              "243         0.874023      12.0  ...       0.674349        0.680114\n",
              "\n",
              "[800 rows x 20 columns]"
            ]
          },
          "metadata": {
            "tags": []
          },
          "execution_count": 118
        }
      ]
    },
    {
      "cell_type": "code",
      "metadata": {
        "id": "L3lsJrKFeh9X",
        "outputId": "4e587a17-1aa0-4531-9ebb-b74e309b2f98",
        "colab": {
          "base_uri": "https://localhost:8080/"
        }
      },
      "source": [
        "mest_enc.mapping"
      ],
      "execution_count": 119,
      "outputs": [
        {
          "output_type": "execute_result",
          "data": {
            "text/plain": [
              "{'checking_status': checking_status\n",
              "  1    0.874023\n",
              "  2    0.611944\n",
              "  3    0.477192\n",
              "  4    0.722656\n",
              " -1    0.687500\n",
              " -2    0.687500\n",
              " dtype: float64, 'credit_history': credit_history\n",
              "  1    0.824947\n",
              "  2    0.671875\n",
              "  3    0.663586\n",
              "  4    0.417187\n",
              "  5    0.391071\n",
              " -1    0.687500\n",
              " -2    0.687500\n",
              " dtype: float64, 'employment': employment\n",
              "  1    0.683036\n",
              "  2    0.737377\n",
              "  3    0.593750\n",
              "  4    0.784052\n",
              "  5    0.558067\n",
              " -1    0.687500\n",
              " -2    0.687500\n",
              " dtype: float64, 'foreign_worker': foreign_worker\n",
              "  1    0.680114\n",
              "  2    0.865234\n",
              " -1    0.687500\n",
              " -2    0.687500\n",
              " dtype: float64, 'housing': housing\n",
              "  1    0.724373\n",
              "  2    0.586596\n",
              "  3    0.596391\n",
              " -1    0.687500\n",
              " -2    0.687500\n",
              " dtype: float64, 'job': job\n",
              "  1    0.692749\n",
              "  2    0.629808\n",
              "  3    0.724124\n",
              "  4    0.593750\n",
              " -1    0.687500\n",
              " -2    0.687500\n",
              " dtype: float64, 'other_parties': other_parties\n",
              "  1    0.688523\n",
              "  2    0.535985\n",
              "  3    0.802365\n",
              " -1    0.687500\n",
              " -2    0.687500\n",
              " dtype: float64, 'other_payment_plans': other_payment_plans\n",
              "  1    0.568638\n",
              "  2    0.712270\n",
              "  3    0.617188\n",
              " -1    0.687500\n",
              " -2    0.687500\n",
              " dtype: float64, 'own_telephone': own_telephone\n",
              "  1    0.674349\n",
              "  2    0.707104\n",
              " -1    0.687500\n",
              " -2    0.687500\n",
              " dtype: float64, 'personal_status': personal_status\n",
              "  1    0.723900\n",
              "  2    0.597384\n",
              "  3    0.735445\n",
              "  4    0.623214\n",
              " -1    0.687500\n",
              " -2    0.687500\n",
              " dtype: float64, 'property_magnitude': property_magnitude\n",
              "  1    0.672126\n",
              "  2    0.550305\n",
              "  3    0.679136\n",
              "  4    0.785278\n",
              " -1    0.687500\n",
              " -2    0.687500\n",
              " dtype: float64, 'purpose': purpose\n",
              "  1     0.607955\n",
              "  2     0.679789\n",
              "  3     0.556090\n",
              "  4     0.634375\n",
              "  5     0.638117\n",
              "  6     0.764895\n",
              "  7     0.810320\n",
              "  8     0.568750\n",
              "  9     0.835938\n",
              "  10    0.607955\n",
              " -1     0.687500\n",
              " -2     0.687500\n",
              " dtype: float64, 'residence_since': residence_since\n",
              "  1    0.672262\n",
              "  2    0.709500\n",
              "  3    0.681835\n",
              "  4    0.714033\n",
              " -1    0.687500\n",
              " -2    0.687500\n",
              " dtype: float64, 'savings_status': savings_status\n",
              "  1    0.622500\n",
              "  2    0.803272\n",
              "  3    0.809949\n",
              "  4    0.681882\n",
              "  5    0.876453\n",
              " -1    0.687500\n",
              " -2    0.687500\n",
              " dtype: float64}"
            ]
          },
          "metadata": {
            "tags": []
          },
          "execution_count": 119
        }
      ]
    },
    {
      "cell_type": "code",
      "metadata": {
        "id": "fvblAl1AgTMn"
      },
      "source": [
        "X_test_cod1 = mest_enc.transform(X_test)"
      ],
      "execution_count": 120,
      "outputs": []
    },
    {
      "cell_type": "code",
      "metadata": {
        "id": "lux5I1vLhRaS"
      },
      "source": [
        "from sklearn.preprocessing import PolynomialFeatures"
      ],
      "execution_count": 121,
      "outputs": []
    },
    {
      "cell_type": "code",
      "metadata": {
        "id": "utS44rR5hVzz"
      },
      "source": [
        "poly_gen = PolynomialFeatures(2)"
      ],
      "execution_count": 122,
      "outputs": []
    },
    {
      "cell_type": "code",
      "metadata": {
        "id": "7lSBa5MmhV2m",
        "outputId": "eddacb38-8454-4aba-9996-09e85f1eec99",
        "colab": {
          "base_uri": "https://localhost:8080/"
        }
      },
      "source": [
        "poly_gen.fit_transform(X_train_cod1).shape"
      ],
      "execution_count": 123,
      "outputs": [
        {
          "output_type": "execute_result",
          "data": {
            "text/plain": [
              "(800, 231)"
            ]
          },
          "metadata": {
            "tags": []
          },
          "execution_count": 123
        }
      ]
    },
    {
      "cell_type": "code",
      "metadata": {
        "id": "RB-4q3prhV5y",
        "outputId": "b2b41ef3-5b94-4500-a664-22e6e668003f",
        "colab": {
          "base_uri": "https://localhost:8080/",
          "height": 456
        }
      },
      "source": [
        "X_train_cod = pd.DataFrame(poly_gen.fit_transform(X_train_cod1), columns=poly_gen.get_feature_names() )\n",
        "X_train_cod"
      ],
      "execution_count": 124,
      "outputs": [
        {
          "output_type": "execute_result",
          "data": {
            "text/html": [
              "<div>\n",
              "<style scoped>\n",
              "    .dataframe tbody tr th:only-of-type {\n",
              "        vertical-align: middle;\n",
              "    }\n",
              "\n",
              "    .dataframe tbody tr th {\n",
              "        vertical-align: top;\n",
              "    }\n",
              "\n",
              "    .dataframe thead th {\n",
              "        text-align: right;\n",
              "    }\n",
              "</style>\n",
              "<table border=\"1\" class=\"dataframe\">\n",
              "  <thead>\n",
              "    <tr style=\"text-align: right;\">\n",
              "      <th></th>\n",
              "      <th>1</th>\n",
              "      <th>x0</th>\n",
              "      <th>x1</th>\n",
              "      <th>x2</th>\n",
              "      <th>x3</th>\n",
              "      <th>x4</th>\n",
              "      <th>x5</th>\n",
              "      <th>x6</th>\n",
              "      <th>x7</th>\n",
              "      <th>x8</th>\n",
              "      <th>x9</th>\n",
              "      <th>x10</th>\n",
              "      <th>x11</th>\n",
              "      <th>x12</th>\n",
              "      <th>x13</th>\n",
              "      <th>x14</th>\n",
              "      <th>x15</th>\n",
              "      <th>x16</th>\n",
              "      <th>x17</th>\n",
              "      <th>x18</th>\n",
              "      <th>x19</th>\n",
              "      <th>x0^2</th>\n",
              "      <th>x0 x1</th>\n",
              "      <th>x0 x2</th>\n",
              "      <th>x0 x3</th>\n",
              "      <th>x0 x4</th>\n",
              "      <th>x0 x5</th>\n",
              "      <th>x0 x6</th>\n",
              "      <th>x0 x7</th>\n",
              "      <th>x0 x8</th>\n",
              "      <th>x0 x9</th>\n",
              "      <th>x0 x10</th>\n",
              "      <th>x0 x11</th>\n",
              "      <th>x0 x12</th>\n",
              "      <th>x0 x13</th>\n",
              "      <th>x0 x14</th>\n",
              "      <th>x0 x15</th>\n",
              "      <th>x0 x16</th>\n",
              "      <th>x0 x17</th>\n",
              "      <th>x0 x18</th>\n",
              "      <th>...</th>\n",
              "      <th>x11 x16</th>\n",
              "      <th>x11 x17</th>\n",
              "      <th>x11 x18</th>\n",
              "      <th>x11 x19</th>\n",
              "      <th>x12^2</th>\n",
              "      <th>x12 x13</th>\n",
              "      <th>x12 x14</th>\n",
              "      <th>x12 x15</th>\n",
              "      <th>x12 x16</th>\n",
              "      <th>x12 x17</th>\n",
              "      <th>x12 x18</th>\n",
              "      <th>x12 x19</th>\n",
              "      <th>x13^2</th>\n",
              "      <th>x13 x14</th>\n",
              "      <th>x13 x15</th>\n",
              "      <th>x13 x16</th>\n",
              "      <th>x13 x17</th>\n",
              "      <th>x13 x18</th>\n",
              "      <th>x13 x19</th>\n",
              "      <th>x14^2</th>\n",
              "      <th>x14 x15</th>\n",
              "      <th>x14 x16</th>\n",
              "      <th>x14 x17</th>\n",
              "      <th>x14 x18</th>\n",
              "      <th>x14 x19</th>\n",
              "      <th>x15^2</th>\n",
              "      <th>x15 x16</th>\n",
              "      <th>x15 x17</th>\n",
              "      <th>x15 x18</th>\n",
              "      <th>x15 x19</th>\n",
              "      <th>x16^2</th>\n",
              "      <th>x16 x17</th>\n",
              "      <th>x16 x18</th>\n",
              "      <th>x16 x19</th>\n",
              "      <th>x17^2</th>\n",
              "      <th>x17 x18</th>\n",
              "      <th>x17 x19</th>\n",
              "      <th>x18^2</th>\n",
              "      <th>x18 x19</th>\n",
              "      <th>x19^2</th>\n",
              "    </tr>\n",
              "  </thead>\n",
              "  <tbody>\n",
              "    <tr>\n",
              "      <th>0</th>\n",
              "      <td>1.0</td>\n",
              "      <td>0.874023</td>\n",
              "      <td>18.0</td>\n",
              "      <td>0.824947</td>\n",
              "      <td>0.607955</td>\n",
              "      <td>1530.0</td>\n",
              "      <td>0.622500</td>\n",
              "      <td>0.683036</td>\n",
              "      <td>3.0</td>\n",
              "      <td>0.723900</td>\n",
              "      <td>0.688523</td>\n",
              "      <td>0.672262</td>\n",
              "      <td>0.672126</td>\n",
              "      <td>32.0</td>\n",
              "      <td>0.568638</td>\n",
              "      <td>0.724373</td>\n",
              "      <td>2.0</td>\n",
              "      <td>0.692749</td>\n",
              "      <td>1.0</td>\n",
              "      <td>0.674349</td>\n",
              "      <td>0.680114</td>\n",
              "      <td>0.763917</td>\n",
              "      <td>15.732422</td>\n",
              "      <td>0.721023</td>\n",
              "      <td>0.531367</td>\n",
              "      <td>1337.255859</td>\n",
              "      <td>0.544080</td>\n",
              "      <td>0.596989</td>\n",
              "      <td>2.622070</td>\n",
              "      <td>0.632705</td>\n",
              "      <td>0.601785</td>\n",
              "      <td>0.587573</td>\n",
              "      <td>0.587454</td>\n",
              "      <td>27.968750</td>\n",
              "      <td>0.497003</td>\n",
              "      <td>0.633119</td>\n",
              "      <td>1.748047</td>\n",
              "      <td>0.605479</td>\n",
              "      <td>0.874023</td>\n",
              "      <td>0.589397</td>\n",
              "      <td>...</td>\n",
              "      <td>0.465614</td>\n",
              "      <td>0.672126</td>\n",
              "      <td>0.453247</td>\n",
              "      <td>0.457122</td>\n",
              "      <td>1024.0</td>\n",
              "      <td>18.196429</td>\n",
              "      <td>23.179931</td>\n",
              "      <td>64.0</td>\n",
              "      <td>22.167969</td>\n",
              "      <td>32.0</td>\n",
              "      <td>21.579167</td>\n",
              "      <td>21.763636</td>\n",
              "      <td>0.323350</td>\n",
              "      <td>0.411906</td>\n",
              "      <td>1.137277</td>\n",
              "      <td>0.393924</td>\n",
              "      <td>0.568638</td>\n",
              "      <td>0.383461</td>\n",
              "      <td>0.386739</td>\n",
              "      <td>0.524716</td>\n",
              "      <td>1.448746</td>\n",
              "      <td>0.501809</td>\n",
              "      <td>0.724373</td>\n",
              "      <td>0.488480</td>\n",
              "      <td>0.492656</td>\n",
              "      <td>4.0</td>\n",
              "      <td>1.385498</td>\n",
              "      <td>2.0</td>\n",
              "      <td>1.348698</td>\n",
              "      <td>1.360227</td>\n",
              "      <td>0.479901</td>\n",
              "      <td>0.692749</td>\n",
              "      <td>0.467155</td>\n",
              "      <td>0.471148</td>\n",
              "      <td>1.0</td>\n",
              "      <td>0.674349</td>\n",
              "      <td>0.680114</td>\n",
              "      <td>0.454747</td>\n",
              "      <td>0.458634</td>\n",
              "      <td>0.462555</td>\n",
              "    </tr>\n",
              "    <tr>\n",
              "      <th>1</th>\n",
              "      <td>1.0</td>\n",
              "      <td>0.611944</td>\n",
              "      <td>18.0</td>\n",
              "      <td>0.671875</td>\n",
              "      <td>0.679789</td>\n",
              "      <td>4297.0</td>\n",
              "      <td>0.622500</td>\n",
              "      <td>0.737377</td>\n",
              "      <td>4.0</td>\n",
              "      <td>0.597384</td>\n",
              "      <td>0.688523</td>\n",
              "      <td>0.709500</td>\n",
              "      <td>0.550305</td>\n",
              "      <td>40.0</td>\n",
              "      <td>0.712270</td>\n",
              "      <td>0.724373</td>\n",
              "      <td>1.0</td>\n",
              "      <td>0.629808</td>\n",
              "      <td>1.0</td>\n",
              "      <td>0.707104</td>\n",
              "      <td>0.680114</td>\n",
              "      <td>0.374476</td>\n",
              "      <td>11.015000</td>\n",
              "      <td>0.411150</td>\n",
              "      <td>0.415993</td>\n",
              "      <td>2629.525278</td>\n",
              "      <td>0.380935</td>\n",
              "      <td>0.451234</td>\n",
              "      <td>2.447778</td>\n",
              "      <td>0.365566</td>\n",
              "      <td>0.421338</td>\n",
              "      <td>0.434175</td>\n",
              "      <td>0.336756</td>\n",
              "      <td>24.477778</td>\n",
              "      <td>0.435869</td>\n",
              "      <td>0.443276</td>\n",
              "      <td>0.611944</td>\n",
              "      <td>0.385407</td>\n",
              "      <td>0.611944</td>\n",
              "      <td>0.432708</td>\n",
              "      <td>...</td>\n",
              "      <td>0.346586</td>\n",
              "      <td>0.550305</td>\n",
              "      <td>0.389123</td>\n",
              "      <td>0.374270</td>\n",
              "      <td>1600.0</td>\n",
              "      <td>28.490783</td>\n",
              "      <td>28.974913</td>\n",
              "      <td>40.0</td>\n",
              "      <td>25.192308</td>\n",
              "      <td>40.0</td>\n",
              "      <td>28.284161</td>\n",
              "      <td>27.204545</td>\n",
              "      <td>0.507328</td>\n",
              "      <td>0.515949</td>\n",
              "      <td>0.712270</td>\n",
              "      <td>0.448593</td>\n",
              "      <td>0.712270</td>\n",
              "      <td>0.503649</td>\n",
              "      <td>0.484424</td>\n",
              "      <td>0.524716</td>\n",
              "      <td>0.724373</td>\n",
              "      <td>0.456216</td>\n",
              "      <td>0.724373</td>\n",
              "      <td>0.512207</td>\n",
              "      <td>0.492656</td>\n",
              "      <td>1.0</td>\n",
              "      <td>0.629808</td>\n",
              "      <td>1.0</td>\n",
              "      <td>0.707104</td>\n",
              "      <td>0.680114</td>\n",
              "      <td>0.396658</td>\n",
              "      <td>0.629808</td>\n",
              "      <td>0.445340</td>\n",
              "      <td>0.428341</td>\n",
              "      <td>1.0</td>\n",
              "      <td>0.707104</td>\n",
              "      <td>0.680114</td>\n",
              "      <td>0.499996</td>\n",
              "      <td>0.480911</td>\n",
              "      <td>0.462555</td>\n",
              "    </tr>\n",
              "    <tr>\n",
              "      <th>2</th>\n",
              "      <td>1.0</td>\n",
              "      <td>0.611944</td>\n",
              "      <td>18.0</td>\n",
              "      <td>0.663586</td>\n",
              "      <td>0.556090</td>\n",
              "      <td>1239.0</td>\n",
              "      <td>0.803272</td>\n",
              "      <td>0.683036</td>\n",
              "      <td>4.0</td>\n",
              "      <td>0.723900</td>\n",
              "      <td>0.688523</td>\n",
              "      <td>0.681835</td>\n",
              "      <td>0.550305</td>\n",
              "      <td>61.0</td>\n",
              "      <td>0.712270</td>\n",
              "      <td>0.586596</td>\n",
              "      <td>1.0</td>\n",
              "      <td>0.692749</td>\n",
              "      <td>1.0</td>\n",
              "      <td>0.674349</td>\n",
              "      <td>0.680114</td>\n",
              "      <td>0.374476</td>\n",
              "      <td>11.015000</td>\n",
              "      <td>0.406078</td>\n",
              "      <td>0.340296</td>\n",
              "      <td>758.199167</td>\n",
              "      <td>0.491558</td>\n",
              "      <td>0.417980</td>\n",
              "      <td>2.447778</td>\n",
              "      <td>0.442986</td>\n",
              "      <td>0.421338</td>\n",
              "      <td>0.417245</td>\n",
              "      <td>0.336756</td>\n",
              "      <td>37.328611</td>\n",
              "      <td>0.435869</td>\n",
              "      <td>0.358964</td>\n",
              "      <td>0.611944</td>\n",
              "      <td>0.423924</td>\n",
              "      <td>0.611944</td>\n",
              "      <td>0.412664</td>\n",
              "      <td>...</td>\n",
              "      <td>0.381223</td>\n",
              "      <td>0.550305</td>\n",
              "      <td>0.371098</td>\n",
              "      <td>0.374270</td>\n",
              "      <td>3721.0</td>\n",
              "      <td>43.448445</td>\n",
              "      <td>35.782380</td>\n",
              "      <td>61.0</td>\n",
              "      <td>42.257690</td>\n",
              "      <td>61.0</td>\n",
              "      <td>41.135286</td>\n",
              "      <td>41.486932</td>\n",
              "      <td>0.507328</td>\n",
              "      <td>0.417815</td>\n",
              "      <td>0.712270</td>\n",
              "      <td>0.493424</td>\n",
              "      <td>0.712270</td>\n",
              "      <td>0.480318</td>\n",
              "      <td>0.484424</td>\n",
              "      <td>0.344095</td>\n",
              "      <td>0.586596</td>\n",
              "      <td>0.406364</td>\n",
              "      <td>0.586596</td>\n",
              "      <td>0.395571</td>\n",
              "      <td>0.398952</td>\n",
              "      <td>1.0</td>\n",
              "      <td>0.692749</td>\n",
              "      <td>1.0</td>\n",
              "      <td>0.674349</td>\n",
              "      <td>0.680114</td>\n",
              "      <td>0.479901</td>\n",
              "      <td>0.692749</td>\n",
              "      <td>0.467155</td>\n",
              "      <td>0.471148</td>\n",
              "      <td>1.0</td>\n",
              "      <td>0.674349</td>\n",
              "      <td>0.680114</td>\n",
              "      <td>0.454747</td>\n",
              "      <td>0.458634</td>\n",
              "      <td>0.462555</td>\n",
              "    </tr>\n",
              "    <tr>\n",
              "      <th>3</th>\n",
              "      <td>1.0</td>\n",
              "      <td>0.874023</td>\n",
              "      <td>27.0</td>\n",
              "      <td>0.663586</td>\n",
              "      <td>0.634375</td>\n",
              "      <td>5190.0</td>\n",
              "      <td>0.803272</td>\n",
              "      <td>0.737377</td>\n",
              "      <td>4.0</td>\n",
              "      <td>0.723900</td>\n",
              "      <td>0.688523</td>\n",
              "      <td>0.681835</td>\n",
              "      <td>0.672126</td>\n",
              "      <td>48.0</td>\n",
              "      <td>0.712270</td>\n",
              "      <td>0.724373</td>\n",
              "      <td>4.0</td>\n",
              "      <td>0.692749</td>\n",
              "      <td>2.0</td>\n",
              "      <td>0.707104</td>\n",
              "      <td>0.680114</td>\n",
              "      <td>0.763917</td>\n",
              "      <td>23.598633</td>\n",
              "      <td>0.579989</td>\n",
              "      <td>0.554459</td>\n",
              "      <td>4536.181641</td>\n",
              "      <td>0.702078</td>\n",
              "      <td>0.644485</td>\n",
              "      <td>3.496094</td>\n",
              "      <td>0.632705</td>\n",
              "      <td>0.601785</td>\n",
              "      <td>0.595940</td>\n",
              "      <td>0.587454</td>\n",
              "      <td>41.953125</td>\n",
              "      <td>0.622540</td>\n",
              "      <td>0.633119</td>\n",
              "      <td>3.496094</td>\n",
              "      <td>0.605479</td>\n",
              "      <td>1.748047</td>\n",
              "      <td>0.618026</td>\n",
              "      <td>...</td>\n",
              "      <td>0.465614</td>\n",
              "      <td>1.344251</td>\n",
              "      <td>0.475263</td>\n",
              "      <td>0.457122</td>\n",
              "      <td>2304.0</td>\n",
              "      <td>34.188940</td>\n",
              "      <td>34.769896</td>\n",
              "      <td>192.0</td>\n",
              "      <td>33.251953</td>\n",
              "      <td>96.0</td>\n",
              "      <td>33.940994</td>\n",
              "      <td>32.645455</td>\n",
              "      <td>0.507328</td>\n",
              "      <td>0.515949</td>\n",
              "      <td>2.849078</td>\n",
              "      <td>0.493424</td>\n",
              "      <td>1.424539</td>\n",
              "      <td>0.503649</td>\n",
              "      <td>0.484424</td>\n",
              "      <td>0.524716</td>\n",
              "      <td>2.897491</td>\n",
              "      <td>0.501809</td>\n",
              "      <td>1.448746</td>\n",
              "      <td>0.512207</td>\n",
              "      <td>0.492656</td>\n",
              "      <td>16.0</td>\n",
              "      <td>2.770996</td>\n",
              "      <td>8.0</td>\n",
              "      <td>2.828416</td>\n",
              "      <td>2.720455</td>\n",
              "      <td>0.479901</td>\n",
              "      <td>1.385498</td>\n",
              "      <td>0.489846</td>\n",
              "      <td>0.471148</td>\n",
              "      <td>4.0</td>\n",
              "      <td>1.414208</td>\n",
              "      <td>1.360227</td>\n",
              "      <td>0.499996</td>\n",
              "      <td>0.480911</td>\n",
              "      <td>0.462555</td>\n",
              "    </tr>\n",
              "    <tr>\n",
              "      <th>4</th>\n",
              "      <td>1.0</td>\n",
              "      <td>0.874023</td>\n",
              "      <td>48.0</td>\n",
              "      <td>0.663586</td>\n",
              "      <td>0.638117</td>\n",
              "      <td>4844.0</td>\n",
              "      <td>0.622500</td>\n",
              "      <td>0.593750</td>\n",
              "      <td>3.0</td>\n",
              "      <td>0.723900</td>\n",
              "      <td>0.688523</td>\n",
              "      <td>0.672262</td>\n",
              "      <td>0.679136</td>\n",
              "      <td>33.0</td>\n",
              "      <td>0.568638</td>\n",
              "      <td>0.596391</td>\n",
              "      <td>1.0</td>\n",
              "      <td>0.629808</td>\n",
              "      <td>1.0</td>\n",
              "      <td>0.707104</td>\n",
              "      <td>0.680114</td>\n",
              "      <td>0.763917</td>\n",
              "      <td>41.953125</td>\n",
              "      <td>0.579989</td>\n",
              "      <td>0.557729</td>\n",
              "      <td>4233.769531</td>\n",
              "      <td>0.544080</td>\n",
              "      <td>0.518951</td>\n",
              "      <td>2.622070</td>\n",
              "      <td>0.632705</td>\n",
              "      <td>0.601785</td>\n",
              "      <td>0.587573</td>\n",
              "      <td>0.593581</td>\n",
              "      <td>28.842773</td>\n",
              "      <td>0.497003</td>\n",
              "      <td>0.521260</td>\n",
              "      <td>0.874023</td>\n",
              "      <td>0.550467</td>\n",
              "      <td>0.874023</td>\n",
              "      <td>0.618026</td>\n",
              "      <td>...</td>\n",
              "      <td>0.427725</td>\n",
              "      <td>0.679136</td>\n",
              "      <td>0.480220</td>\n",
              "      <td>0.461889</td>\n",
              "      <td>1089.0</td>\n",
              "      <td>18.765067</td>\n",
              "      <td>19.680898</td>\n",
              "      <td>33.0</td>\n",
              "      <td>20.783654</td>\n",
              "      <td>33.0</td>\n",
              "      <td>23.334433</td>\n",
              "      <td>22.443750</td>\n",
              "      <td>0.323350</td>\n",
              "      <td>0.339131</td>\n",
              "      <td>0.568638</td>\n",
              "      <td>0.358133</td>\n",
              "      <td>0.568638</td>\n",
              "      <td>0.402087</td>\n",
              "      <td>0.386739</td>\n",
              "      <td>0.355682</td>\n",
              "      <td>0.596391</td>\n",
              "      <td>0.375612</td>\n",
              "      <td>0.596391</td>\n",
              "      <td>0.421710</td>\n",
              "      <td>0.405614</td>\n",
              "      <td>1.0</td>\n",
              "      <td>0.629808</td>\n",
              "      <td>1.0</td>\n",
              "      <td>0.707104</td>\n",
              "      <td>0.680114</td>\n",
              "      <td>0.396658</td>\n",
              "      <td>0.629808</td>\n",
              "      <td>0.445340</td>\n",
              "      <td>0.428341</td>\n",
              "      <td>1.0</td>\n",
              "      <td>0.707104</td>\n",
              "      <td>0.680114</td>\n",
              "      <td>0.499996</td>\n",
              "      <td>0.480911</td>\n",
              "      <td>0.462555</td>\n",
              "    </tr>\n",
              "    <tr>\n",
              "      <th>...</th>\n",
              "      <td>...</td>\n",
              "      <td>...</td>\n",
              "      <td>...</td>\n",
              "      <td>...</td>\n",
              "      <td>...</td>\n",
              "      <td>...</td>\n",
              "      <td>...</td>\n",
              "      <td>...</td>\n",
              "      <td>...</td>\n",
              "      <td>...</td>\n",
              "      <td>...</td>\n",
              "      <td>...</td>\n",
              "      <td>...</td>\n",
              "      <td>...</td>\n",
              "      <td>...</td>\n",
              "      <td>...</td>\n",
              "      <td>...</td>\n",
              "      <td>...</td>\n",
              "      <td>...</td>\n",
              "      <td>...</td>\n",
              "      <td>...</td>\n",
              "      <td>...</td>\n",
              "      <td>...</td>\n",
              "      <td>...</td>\n",
              "      <td>...</td>\n",
              "      <td>...</td>\n",
              "      <td>...</td>\n",
              "      <td>...</td>\n",
              "      <td>...</td>\n",
              "      <td>...</td>\n",
              "      <td>...</td>\n",
              "      <td>...</td>\n",
              "      <td>...</td>\n",
              "      <td>...</td>\n",
              "      <td>...</td>\n",
              "      <td>...</td>\n",
              "      <td>...</td>\n",
              "      <td>...</td>\n",
              "      <td>...</td>\n",
              "      <td>...</td>\n",
              "      <td>...</td>\n",
              "      <td>...</td>\n",
              "      <td>...</td>\n",
              "      <td>...</td>\n",
              "      <td>...</td>\n",
              "      <td>...</td>\n",
              "      <td>...</td>\n",
              "      <td>...</td>\n",
              "      <td>...</td>\n",
              "      <td>...</td>\n",
              "      <td>...</td>\n",
              "      <td>...</td>\n",
              "      <td>...</td>\n",
              "      <td>...</td>\n",
              "      <td>...</td>\n",
              "      <td>...</td>\n",
              "      <td>...</td>\n",
              "      <td>...</td>\n",
              "      <td>...</td>\n",
              "      <td>...</td>\n",
              "      <td>...</td>\n",
              "      <td>...</td>\n",
              "      <td>...</td>\n",
              "      <td>...</td>\n",
              "      <td>...</td>\n",
              "      <td>...</td>\n",
              "      <td>...</td>\n",
              "      <td>...</td>\n",
              "      <td>...</td>\n",
              "      <td>...</td>\n",
              "      <td>...</td>\n",
              "      <td>...</td>\n",
              "      <td>...</td>\n",
              "      <td>...</td>\n",
              "      <td>...</td>\n",
              "      <td>...</td>\n",
              "      <td>...</td>\n",
              "      <td>...</td>\n",
              "      <td>...</td>\n",
              "      <td>...</td>\n",
              "      <td>...</td>\n",
              "    </tr>\n",
              "    <tr>\n",
              "      <th>795</th>\n",
              "      <td>1.0</td>\n",
              "      <td>0.611944</td>\n",
              "      <td>16.0</td>\n",
              "      <td>0.824947</td>\n",
              "      <td>0.607955</td>\n",
              "      <td>1175.0</td>\n",
              "      <td>0.622500</td>\n",
              "      <td>0.593750</td>\n",
              "      <td>2.0</td>\n",
              "      <td>0.723900</td>\n",
              "      <td>0.688523</td>\n",
              "      <td>0.709500</td>\n",
              "      <td>0.679136</td>\n",
              "      <td>68.0</td>\n",
              "      <td>0.712270</td>\n",
              "      <td>0.586596</td>\n",
              "      <td>3.0</td>\n",
              "      <td>0.593750</td>\n",
              "      <td>1.0</td>\n",
              "      <td>0.707104</td>\n",
              "      <td>0.680114</td>\n",
              "      <td>0.374476</td>\n",
              "      <td>9.791111</td>\n",
              "      <td>0.504822</td>\n",
              "      <td>0.372034</td>\n",
              "      <td>719.034722</td>\n",
              "      <td>0.380935</td>\n",
              "      <td>0.363342</td>\n",
              "      <td>1.223889</td>\n",
              "      <td>0.442986</td>\n",
              "      <td>0.421338</td>\n",
              "      <td>0.434175</td>\n",
              "      <td>0.415593</td>\n",
              "      <td>41.612222</td>\n",
              "      <td>0.435869</td>\n",
              "      <td>0.358964</td>\n",
              "      <td>1.835833</td>\n",
              "      <td>0.363342</td>\n",
              "      <td>0.611944</td>\n",
              "      <td>0.432708</td>\n",
              "      <td>...</td>\n",
              "      <td>0.403237</td>\n",
              "      <td>0.679136</td>\n",
              "      <td>0.480220</td>\n",
              "      <td>0.461889</td>\n",
              "      <td>4624.0</td>\n",
              "      <td>48.434332</td>\n",
              "      <td>39.888554</td>\n",
              "      <td>204.0</td>\n",
              "      <td>40.375000</td>\n",
              "      <td>68.0</td>\n",
              "      <td>48.083075</td>\n",
              "      <td>46.247727</td>\n",
              "      <td>0.507328</td>\n",
              "      <td>0.417815</td>\n",
              "      <td>2.136809</td>\n",
              "      <td>0.422910</td>\n",
              "      <td>0.712270</td>\n",
              "      <td>0.503649</td>\n",
              "      <td>0.484424</td>\n",
              "      <td>0.344095</td>\n",
              "      <td>1.759789</td>\n",
              "      <td>0.348292</td>\n",
              "      <td>0.586596</td>\n",
              "      <td>0.414785</td>\n",
              "      <td>0.398952</td>\n",
              "      <td>9.0</td>\n",
              "      <td>1.781250</td>\n",
              "      <td>3.0</td>\n",
              "      <td>2.121312</td>\n",
              "      <td>2.040341</td>\n",
              "      <td>0.352539</td>\n",
              "      <td>0.593750</td>\n",
              "      <td>0.419843</td>\n",
              "      <td>0.403817</td>\n",
              "      <td>1.0</td>\n",
              "      <td>0.707104</td>\n",
              "      <td>0.680114</td>\n",
              "      <td>0.499996</td>\n",
              "      <td>0.480911</td>\n",
              "      <td>0.462555</td>\n",
              "    </tr>\n",
              "    <tr>\n",
              "      <th>796</th>\n",
              "      <td>1.0</td>\n",
              "      <td>0.611944</td>\n",
              "      <td>12.0</td>\n",
              "      <td>0.663586</td>\n",
              "      <td>0.638117</td>\n",
              "      <td>1037.0</td>\n",
              "      <td>0.681882</td>\n",
              "      <td>0.784052</td>\n",
              "      <td>3.0</td>\n",
              "      <td>0.723900</td>\n",
              "      <td>0.688523</td>\n",
              "      <td>0.681835</td>\n",
              "      <td>0.785278</td>\n",
              "      <td>39.0</td>\n",
              "      <td>0.712270</td>\n",
              "      <td>0.724373</td>\n",
              "      <td>1.0</td>\n",
              "      <td>0.724124</td>\n",
              "      <td>1.0</td>\n",
              "      <td>0.674349</td>\n",
              "      <td>0.680114</td>\n",
              "      <td>0.374476</td>\n",
              "      <td>7.343333</td>\n",
              "      <td>0.406078</td>\n",
              "      <td>0.390492</td>\n",
              "      <td>634.586389</td>\n",
              "      <td>0.417274</td>\n",
              "      <td>0.479796</td>\n",
              "      <td>1.835833</td>\n",
              "      <td>0.442986</td>\n",
              "      <td>0.421338</td>\n",
              "      <td>0.417245</td>\n",
              "      <td>0.480546</td>\n",
              "      <td>23.865833</td>\n",
              "      <td>0.435869</td>\n",
              "      <td>0.443276</td>\n",
              "      <td>0.611944</td>\n",
              "      <td>0.443124</td>\n",
              "      <td>0.611944</td>\n",
              "      <td>0.412664</td>\n",
              "      <td>...</td>\n",
              "      <td>0.568639</td>\n",
              "      <td>0.785278</td>\n",
              "      <td>0.529551</td>\n",
              "      <td>0.534078</td>\n",
              "      <td>1521.0</td>\n",
              "      <td>27.778514</td>\n",
              "      <td>28.250541</td>\n",
              "      <td>39.0</td>\n",
              "      <td>28.240844</td>\n",
              "      <td>39.0</td>\n",
              "      <td>26.299609</td>\n",
              "      <td>26.524432</td>\n",
              "      <td>0.507328</td>\n",
              "      <td>0.515949</td>\n",
              "      <td>0.712270</td>\n",
              "      <td>0.515772</td>\n",
              "      <td>0.712270</td>\n",
              "      <td>0.480318</td>\n",
              "      <td>0.484424</td>\n",
              "      <td>0.524716</td>\n",
              "      <td>0.724373</td>\n",
              "      <td>0.524536</td>\n",
              "      <td>0.724373</td>\n",
              "      <td>0.488480</td>\n",
              "      <td>0.492656</td>\n",
              "      <td>1.0</td>\n",
              "      <td>0.724124</td>\n",
              "      <td>1.0</td>\n",
              "      <td>0.674349</td>\n",
              "      <td>0.680114</td>\n",
              "      <td>0.524356</td>\n",
              "      <td>0.724124</td>\n",
              "      <td>0.488312</td>\n",
              "      <td>0.492487</td>\n",
              "      <td>1.0</td>\n",
              "      <td>0.674349</td>\n",
              "      <td>0.680114</td>\n",
              "      <td>0.454747</td>\n",
              "      <td>0.458634</td>\n",
              "      <td>0.462555</td>\n",
              "    </tr>\n",
              "    <tr>\n",
              "      <th>797</th>\n",
              "      <td>1.0</td>\n",
              "      <td>0.611944</td>\n",
              "      <td>18.0</td>\n",
              "      <td>0.824947</td>\n",
              "      <td>0.679789</td>\n",
              "      <td>1928.0</td>\n",
              "      <td>0.622500</td>\n",
              "      <td>0.558067</td>\n",
              "      <td>2.0</td>\n",
              "      <td>0.723900</td>\n",
              "      <td>0.688523</td>\n",
              "      <td>0.672262</td>\n",
              "      <td>0.785278</td>\n",
              "      <td>31.0</td>\n",
              "      <td>0.712270</td>\n",
              "      <td>0.724373</td>\n",
              "      <td>2.0</td>\n",
              "      <td>0.724124</td>\n",
              "      <td>1.0</td>\n",
              "      <td>0.674349</td>\n",
              "      <td>0.680114</td>\n",
              "      <td>0.374476</td>\n",
              "      <td>11.015000</td>\n",
              "      <td>0.504822</td>\n",
              "      <td>0.415993</td>\n",
              "      <td>1179.828889</td>\n",
              "      <td>0.380935</td>\n",
              "      <td>0.341506</td>\n",
              "      <td>1.223889</td>\n",
              "      <td>0.442986</td>\n",
              "      <td>0.421338</td>\n",
              "      <td>0.411387</td>\n",
              "      <td>0.480546</td>\n",
              "      <td>18.970278</td>\n",
              "      <td>0.435869</td>\n",
              "      <td>0.443276</td>\n",
              "      <td>1.223889</td>\n",
              "      <td>0.443124</td>\n",
              "      <td>0.611944</td>\n",
              "      <td>0.412664</td>\n",
              "      <td>...</td>\n",
              "      <td>0.568639</td>\n",
              "      <td>0.785278</td>\n",
              "      <td>0.529551</td>\n",
              "      <td>0.534078</td>\n",
              "      <td>961.0</td>\n",
              "      <td>22.080357</td>\n",
              "      <td>22.455558</td>\n",
              "      <td>62.0</td>\n",
              "      <td>22.447850</td>\n",
              "      <td>31.0</td>\n",
              "      <td>20.904818</td>\n",
              "      <td>21.083523</td>\n",
              "      <td>0.507328</td>\n",
              "      <td>0.515949</td>\n",
              "      <td>1.424539</td>\n",
              "      <td>0.515772</td>\n",
              "      <td>0.712270</td>\n",
              "      <td>0.480318</td>\n",
              "      <td>0.484424</td>\n",
              "      <td>0.524716</td>\n",
              "      <td>1.448746</td>\n",
              "      <td>0.524536</td>\n",
              "      <td>0.724373</td>\n",
              "      <td>0.488480</td>\n",
              "      <td>0.492656</td>\n",
              "      <td>4.0</td>\n",
              "      <td>1.448248</td>\n",
              "      <td>2.0</td>\n",
              "      <td>1.348698</td>\n",
              "      <td>1.360227</td>\n",
              "      <td>0.524356</td>\n",
              "      <td>0.724124</td>\n",
              "      <td>0.488312</td>\n",
              "      <td>0.492487</td>\n",
              "      <td>1.0</td>\n",
              "      <td>0.674349</td>\n",
              "      <td>0.680114</td>\n",
              "      <td>0.454747</td>\n",
              "      <td>0.458634</td>\n",
              "      <td>0.462555</td>\n",
              "    </tr>\n",
              "    <tr>\n",
              "      <th>798</th>\n",
              "      <td>1.0</td>\n",
              "      <td>0.874023</td>\n",
              "      <td>6.0</td>\n",
              "      <td>0.663586</td>\n",
              "      <td>0.679789</td>\n",
              "      <td>1543.0</td>\n",
              "      <td>0.876453</td>\n",
              "      <td>0.683036</td>\n",
              "      <td>4.0</td>\n",
              "      <td>0.597384</td>\n",
              "      <td>0.688523</td>\n",
              "      <td>0.672262</td>\n",
              "      <td>0.785278</td>\n",
              "      <td>33.0</td>\n",
              "      <td>0.712270</td>\n",
              "      <td>0.724373</td>\n",
              "      <td>1.0</td>\n",
              "      <td>0.692749</td>\n",
              "      <td>1.0</td>\n",
              "      <td>0.674349</td>\n",
              "      <td>0.680114</td>\n",
              "      <td>0.763917</td>\n",
              "      <td>5.244141</td>\n",
              "      <td>0.579989</td>\n",
              "      <td>0.594151</td>\n",
              "      <td>1348.618164</td>\n",
              "      <td>0.766041</td>\n",
              "      <td>0.596989</td>\n",
              "      <td>3.496094</td>\n",
              "      <td>0.522127</td>\n",
              "      <td>0.601785</td>\n",
              "      <td>0.587573</td>\n",
              "      <td>0.686351</td>\n",
              "      <td>28.842773</td>\n",
              "      <td>0.622540</td>\n",
              "      <td>0.633119</td>\n",
              "      <td>0.874023</td>\n",
              "      <td>0.605479</td>\n",
              "      <td>0.874023</td>\n",
              "      <td>0.589397</td>\n",
              "      <td>...</td>\n",
              "      <td>0.544000</td>\n",
              "      <td>0.785278</td>\n",
              "      <td>0.529551</td>\n",
              "      <td>0.534078</td>\n",
              "      <td>1089.0</td>\n",
              "      <td>23.504896</td>\n",
              "      <td>23.904304</td>\n",
              "      <td>33.0</td>\n",
              "      <td>22.860718</td>\n",
              "      <td>33.0</td>\n",
              "      <td>22.253516</td>\n",
              "      <td>22.443750</td>\n",
              "      <td>0.507328</td>\n",
              "      <td>0.515949</td>\n",
              "      <td>0.712270</td>\n",
              "      <td>0.493424</td>\n",
              "      <td>0.712270</td>\n",
              "      <td>0.480318</td>\n",
              "      <td>0.484424</td>\n",
              "      <td>0.524716</td>\n",
              "      <td>0.724373</td>\n",
              "      <td>0.501809</td>\n",
              "      <td>0.724373</td>\n",
              "      <td>0.488480</td>\n",
              "      <td>0.492656</td>\n",
              "      <td>1.0</td>\n",
              "      <td>0.692749</td>\n",
              "      <td>1.0</td>\n",
              "      <td>0.674349</td>\n",
              "      <td>0.680114</td>\n",
              "      <td>0.479901</td>\n",
              "      <td>0.692749</td>\n",
              "      <td>0.467155</td>\n",
              "      <td>0.471148</td>\n",
              "      <td>1.0</td>\n",
              "      <td>0.674349</td>\n",
              "      <td>0.680114</td>\n",
              "      <td>0.454747</td>\n",
              "      <td>0.458634</td>\n",
              "      <td>0.462555</td>\n",
              "    </tr>\n",
              "    <tr>\n",
              "      <th>799</th>\n",
              "      <td>1.0</td>\n",
              "      <td>0.874023</td>\n",
              "      <td>12.0</td>\n",
              "      <td>0.824947</td>\n",
              "      <td>0.638117</td>\n",
              "      <td>1185.0</td>\n",
              "      <td>0.622500</td>\n",
              "      <td>0.683036</td>\n",
              "      <td>3.0</td>\n",
              "      <td>0.623214</td>\n",
              "      <td>0.688523</td>\n",
              "      <td>0.672262</td>\n",
              "      <td>0.785278</td>\n",
              "      <td>27.0</td>\n",
              "      <td>0.712270</td>\n",
              "      <td>0.724373</td>\n",
              "      <td>2.0</td>\n",
              "      <td>0.692749</td>\n",
              "      <td>1.0</td>\n",
              "      <td>0.674349</td>\n",
              "      <td>0.680114</td>\n",
              "      <td>0.763917</td>\n",
              "      <td>10.488281</td>\n",
              "      <td>0.721023</td>\n",
              "      <td>0.557729</td>\n",
              "      <td>1035.717773</td>\n",
              "      <td>0.544080</td>\n",
              "      <td>0.596989</td>\n",
              "      <td>2.622070</td>\n",
              "      <td>0.544704</td>\n",
              "      <td>0.601785</td>\n",
              "      <td>0.587573</td>\n",
              "      <td>0.686351</td>\n",
              "      <td>23.598633</td>\n",
              "      <td>0.622540</td>\n",
              "      <td>0.633119</td>\n",
              "      <td>1.748047</td>\n",
              "      <td>0.605479</td>\n",
              "      <td>0.874023</td>\n",
              "      <td>0.589397</td>\n",
              "      <td>...</td>\n",
              "      <td>0.544000</td>\n",
              "      <td>0.785278</td>\n",
              "      <td>0.529551</td>\n",
              "      <td>0.534078</td>\n",
              "      <td>729.0</td>\n",
              "      <td>19.231279</td>\n",
              "      <td>19.558067</td>\n",
              "      <td>54.0</td>\n",
              "      <td>18.704224</td>\n",
              "      <td>27.0</td>\n",
              "      <td>18.207422</td>\n",
              "      <td>18.363068</td>\n",
              "      <td>0.507328</td>\n",
              "      <td>0.515949</td>\n",
              "      <td>1.424539</td>\n",
              "      <td>0.493424</td>\n",
              "      <td>0.712270</td>\n",
              "      <td>0.480318</td>\n",
              "      <td>0.484424</td>\n",
              "      <td>0.524716</td>\n",
              "      <td>1.448746</td>\n",
              "      <td>0.501809</td>\n",
              "      <td>0.724373</td>\n",
              "      <td>0.488480</td>\n",
              "      <td>0.492656</td>\n",
              "      <td>4.0</td>\n",
              "      <td>1.385498</td>\n",
              "      <td>2.0</td>\n",
              "      <td>1.348698</td>\n",
              "      <td>1.360227</td>\n",
              "      <td>0.479901</td>\n",
              "      <td>0.692749</td>\n",
              "      <td>0.467155</td>\n",
              "      <td>0.471148</td>\n",
              "      <td>1.0</td>\n",
              "      <td>0.674349</td>\n",
              "      <td>0.680114</td>\n",
              "      <td>0.454747</td>\n",
              "      <td>0.458634</td>\n",
              "      <td>0.462555</td>\n",
              "    </tr>\n",
              "  </tbody>\n",
              "</table>\n",
              "<p>800 rows × 231 columns</p>\n",
              "</div>"
            ],
            "text/plain": [
              "       1        x0    x1        x2  ...   x17 x19     x18^2   x18 x19     x19^2\n",
              "0    1.0  0.874023  18.0  0.824947  ...  0.680114  0.454747  0.458634  0.462555\n",
              "1    1.0  0.611944  18.0  0.671875  ...  0.680114  0.499996  0.480911  0.462555\n",
              "2    1.0  0.611944  18.0  0.663586  ...  0.680114  0.454747  0.458634  0.462555\n",
              "3    1.0  0.874023  27.0  0.663586  ...  1.360227  0.499996  0.480911  0.462555\n",
              "4    1.0  0.874023  48.0  0.663586  ...  0.680114  0.499996  0.480911  0.462555\n",
              "..   ...       ...   ...       ...  ...       ...       ...       ...       ...\n",
              "795  1.0  0.611944  16.0  0.824947  ...  0.680114  0.499996  0.480911  0.462555\n",
              "796  1.0  0.611944  12.0  0.663586  ...  0.680114  0.454747  0.458634  0.462555\n",
              "797  1.0  0.611944  18.0  0.824947  ...  0.680114  0.454747  0.458634  0.462555\n",
              "798  1.0  0.874023   6.0  0.663586  ...  0.680114  0.454747  0.458634  0.462555\n",
              "799  1.0  0.874023  12.0  0.824947  ...  0.680114  0.454747  0.458634  0.462555\n",
              "\n",
              "[800 rows x 231 columns]"
            ]
          },
          "metadata": {
            "tags": []
          },
          "execution_count": 124
        }
      ]
    },
    {
      "cell_type": "code",
      "metadata": {
        "id": "5LanwIjhiDdO"
      },
      "source": [
        "X_test_cod = pd.DataFrame(poly_gen.transform(X_test_cod1), columns=poly_gen.get_feature_names() )"
      ],
      "execution_count": 125,
      "outputs": []
    },
    {
      "cell_type": "markdown",
      "metadata": {
        "id": "JzQls2dVO-d_"
      },
      "source": [
        "#### Modelo base"
      ]
    },
    {
      "cell_type": "code",
      "metadata": {
        "id": "Qd6c_EbLPC7f"
      },
      "source": [
        "from sklearn.linear_model import LogisticRegression\n",
        "from sklearn.metrics import classification_report"
      ],
      "execution_count": 126,
      "outputs": []
    },
    {
      "cell_type": "code",
      "metadata": {
        "id": "dmX7eKFzPDEq",
        "outputId": "8f83f939-59a4-4bfb-f13c-d4f535c33d94",
        "colab": {
          "base_uri": "https://localhost:8080/"
        }
      },
      "source": [
        "base_model = LogisticRegression(penalty='none', max_iter=1000, random_state=6011)\n",
        "base_model.fit(X_train_cod,y_train)"
      ],
      "execution_count": 127,
      "outputs": [
        {
          "output_type": "execute_result",
          "data": {
            "text/plain": [
              "LogisticRegression(max_iter=1000, penalty='none', random_state=6011)"
            ]
          },
          "metadata": {
            "tags": []
          },
          "execution_count": 127
        }
      ]
    },
    {
      "cell_type": "code",
      "metadata": {
        "id": "l3_RyeLsQFRy",
        "outputId": "aa77b441-1d57-4932-8eac-021e47df32fc",
        "colab": {
          "base_uri": "https://localhost:8080/"
        }
      },
      "source": [
        "print(f'Coeficientes mayores a cero: {(base_model.coef_>0).sum()}')"
      ],
      "execution_count": 128,
      "outputs": [
        {
          "output_type": "stream",
          "text": [
            "Coeficientes mayores a cero: 209\n"
          ],
          "name": "stdout"
        }
      ]
    },
    {
      "cell_type": "code",
      "metadata": {
        "id": "0HR36AxtPhR3",
        "outputId": "5beabb98-d6cb-4253-f457-cc89db839dc8",
        "colab": {
          "base_uri": "https://localhost:8080/"
        }
      },
      "source": [
        "print(classification_report(y_test, base_model.predict(X_test_cod)))"
      ],
      "execution_count": 129,
      "outputs": [
        {
          "output_type": "stream",
          "text": [
            "              precision    recall  f1-score   support\n",
            "\n",
            "           0       0.43      0.12      0.19        50\n",
            "           1       0.76      0.95      0.85       150\n",
            "\n",
            "    accuracy                           0.74       200\n",
            "   macro avg       0.60      0.53      0.52       200\n",
            "weighted avg       0.68      0.74      0.68       200\n",
            "\n"
          ],
          "name": "stdout"
        }
      ]
    },
    {
      "cell_type": "markdown",
      "metadata": {
        "id": "20NXuQF2L9j9"
      },
      "source": [
        "# Métodos Intrínsecos"
      ]
    },
    {
      "cell_type": "markdown",
      "metadata": {
        "id": "jSV6T2kPKHN9"
      },
      "source": [
        "## Regresion Ridge"
      ]
    },
    {
      "cell_type": "code",
      "metadata": {
        "id": "JnJbw1M-QMyr"
      },
      "source": [
        "from sklearn.linear_model import LassoCV, RidgeCV, ElasticNetCV, LogisticRegressionCV"
      ],
      "execution_count": 130,
      "outputs": []
    },
    {
      "cell_type": "code",
      "metadata": {
        "id": "XsJ4yJlmQMyr",
        "outputId": "eb886a0f-4389-4e89-fc65-a1fd17398d77",
        "colab": {
          "base_uri": "https://localhost:8080/"
        }
      },
      "source": [
        "ridge_classifier = LogisticRegressionCV(cv=2, max_iter=100, penalty='l2', solver='liblinear')\n",
        "ridge_classifier.fit(X_train_cod,y_train)"
      ],
      "execution_count": 131,
      "outputs": [
        {
          "output_type": "execute_result",
          "data": {
            "text/plain": [
              "LogisticRegressionCV(cv=2, solver='liblinear')"
            ]
          },
          "metadata": {
            "tags": []
          },
          "execution_count": 131
        }
      ]
    },
    {
      "cell_type": "code",
      "metadata": {
        "id": "TKRpyUEyQMyr",
        "outputId": "f80a0153-7aa5-4c2c-cdf5-894a8f210312",
        "colab": {
          "base_uri": "https://localhost:8080/"
        }
      },
      "source": [
        "ridge_classifier.classes_"
      ],
      "execution_count": 132,
      "outputs": [
        {
          "output_type": "execute_result",
          "data": {
            "text/plain": [
              "array([0, 1])"
            ]
          },
          "metadata": {
            "tags": []
          },
          "execution_count": 132
        }
      ]
    },
    {
      "cell_type": "code",
      "metadata": {
        "id": "aijpQ7Z5QMys",
        "outputId": "873ee224-ad29-4ac0-d866-a11ffa8e62b8",
        "colab": {
          "base_uri": "https://localhost:8080/"
        }
      },
      "source": [
        "ridge_classifier.coef_"
      ],
      "execution_count": 133,
      "outputs": [
        {
          "output_type": "execute_result",
          "data": {
            "text/plain": [
              "array([[ 6.24738680e-06,  1.82255624e-05, -8.10023310e-05,\n",
              "         1.25880905e-05,  8.73636093e-06, -3.24914711e-03,\n",
              "         7.67350187e-06,  7.19661235e-06,  1.56774654e-05,\n",
              "         5.18459184e-06,  5.97899079e-06,  4.81220577e-06,\n",
              "         7.75974124e-06,  2.12220880e-04,  6.39457464e-06,\n",
              "         6.41755925e-06,  1.73387589e-05,  5.10746920e-06,\n",
              "         1.98647911e-06,  4.74233127e-06,  5.73044504e-06,\n",
              "         2.20360776e-05,  2.06705707e-04,  1.79008374e-05,\n",
              "         1.56554251e-05,  1.02507256e-03,  1.46615501e-05,\n",
              "         1.46170469e-05,  6.34312433e-05,  1.30740886e-05,\n",
              "         1.35752299e-05,  1.28955325e-05,  1.49493927e-05,\n",
              "         6.31525060e-04,  1.42981161e-05,  1.40676762e-05,\n",
              "         2.75865836e-05,  1.32527603e-05,  1.64244843e-05,\n",
              "         1.27702223e-05,  1.33589659e-05, -2.31703848e-03,\n",
              "        -2.16849095e-05,  1.01084751e-05,  2.49066452e-05,\n",
              "         3.13674361e-05, -5.68375564e-06, -2.97485034e-04,\n",
              "        -3.39125631e-05, -2.44357037e-05, -3.52780981e-05,\n",
              "        -2.07700914e-05, -4.57111726e-04, -1.71585165e-05,\n",
              "        -1.08749996e-05, -6.38917703e-05, -5.38625279e-05,\n",
              "        -1.15551143e-04, -4.10572183e-05, -3.84906019e-05,\n",
              "         1.38783555e-05,  1.15849704e-05,  2.58028967e-04,\n",
              "         1.05958512e-05,  1.06870689e-05,  3.87493484e-05,\n",
              "         9.23390474e-06,  9.74575291e-06,  9.05488278e-06,\n",
              "         1.07726062e-05,  4.66729611e-04,  1.02742151e-05,\n",
              "         9.89799658e-06,  2.75257188e-05,  9.16220987e-06,\n",
              "         1.41213495e-05,  8.98835774e-06,  9.60610687e-06,\n",
              "         9.12494407e-06,  5.49998740e-04,  8.18250029e-06,\n",
              "         8.03937975e-06,  2.75142673e-05,  6.59582912e-06,\n",
              "         7.24952498e-06,  6.35059841e-06,  8.44046110e-06,\n",
              "         3.00403229e-04,  7.40437263e-06,  7.56880000e-06,\n",
              "         1.87823605e-05,  6.55048767e-06,  6.73531458e-06,\n",
              "         6.26694160e-06,  6.92550559e-06, -1.08676057e-07,\n",
              "         8.93762313e-04,  9.26702639e-04, -5.99681665e-05,\n",
              "         1.92490068e-03,  1.12482972e-03,  2.56045934e-04,\n",
              "         7.56147343e-05, -8.06174368e-06,  7.44535536e-04,\n",
              "         2.95568852e-04, -4.86629711e-05, -2.29872894e-03,\n",
              "         4.03749754e-05, -1.10203997e-03,  1.36225215e-03,\n",
              "         7.91842132e-06,  7.20736113e-06,  2.44521815e-05,\n",
              "         5.82295044e-06,  6.31149497e-06,  5.60771089e-06,\n",
              "         7.85962967e-06,  2.57701866e-04,  6.71589747e-06,\n",
              "         6.83046333e-06,  1.50522155e-05,  5.81902632e-06,\n",
              "         5.43372777e-06,  5.58104126e-06,  6.26339744e-06,\n",
              "         6.90747469e-06,  2.03697361e-05,  5.43421343e-06,\n",
              "         6.04829296e-06,  5.29557113e-06,  7.40231272e-06,\n",
              "         2.38608016e-04,  6.59866744e-06,  6.41136891e-06,\n",
              "         1.65535563e-05,  5.51919365e-06,  4.77423970e-06,\n",
              "         5.27840773e-06,  5.85660774e-06,  6.17483196e-05,\n",
              "         1.43280553e-05,  1.50343618e-05,  1.24184186e-05,\n",
              "         2.05536812e-05,  5.13890413e-04,  1.81468892e-05,\n",
              "         1.84612197e-05,  6.17011786e-05,  1.24615839e-05,\n",
              "        -1.12408702e-05,  1.30524571e-05,  1.44350821e-05,\n",
              "         4.17359805e-06,  4.70823174e-06,  3.92447801e-06,\n",
              "         6.05895653e-06,  1.59953384e-04,  4.99434567e-06,\n",
              "         4.94785664e-06,  1.28358682e-05,  4.10199921e-06,\n",
              "         2.02511034e-06,  3.87060532e-06,  4.56903158e-06,\n",
              "         5.29199805e-06,  4.46498100e-06,  6.60446261e-06,\n",
              "         2.02727854e-04,  5.60084349e-06,  5.68577940e-06,\n",
              "         1.41421761e-05,  4.70425487e-06,  3.54230108e-06,\n",
              "         4.40204029e-06,  5.06701609e-06,  3.67078094e-06,\n",
              "         5.67036488e-06,  1.56758054e-04,  4.70165853e-06,\n",
              "         4.75555039e-06,  1.29063840e-05,  3.88011091e-06,\n",
              "         2.12603172e-06,  3.61632990e-06,  4.28986191e-06,\n",
              "         7.85101538e-06,  2.78849373e-04,  6.79511087e-06,\n",
              "         6.88543612e-06,  1.70873662e-05,  6.01521462e-06,\n",
              "         6.55947111e-06,  5.59929317e-06,  6.38393611e-06,\n",
              "         5.52772877e-04,  2.17657524e-04,  2.25436546e-04,\n",
              "         5.30592127e-04,  1.73850883e-04, -2.37830068e-05,\n",
              "         1.65622874e-04,  1.95968761e-04,  5.66802488e-06,\n",
              "         5.83578045e-06,  1.51570782e-05,  5.04861232e-06,\n",
              "         4.68607519e-06,  4.68756642e-06,  5.38996046e-06,\n",
              "         5.77755274e-06,  1.57498536e-05,  5.06374014e-06,\n",
              "         4.21559810e-06,  4.68920685e-06,  5.38761487e-06,\n",
              "         4.02998301e-05,  1.35257304e-05,  1.88138608e-05,\n",
              "         1.24684914e-05,  1.38411991e-05,  4.04388370e-06,\n",
              "         2.23179962e-06,  3.81328690e-06,  4.52576769e-06,\n",
              "        -6.53533627e-06,  2.08368054e-06,  3.43955861e-06,\n",
              "         3.57233587e-06,  4.23379997e-06,  5.17920900e-06]])"
            ]
          },
          "metadata": {
            "tags": []
          },
          "execution_count": 133
        }
      ]
    },
    {
      "cell_type": "code",
      "metadata": {
        "id": "pAvig7DyQMys",
        "outputId": "92e17653-d975-4b83-d11c-dd05ba2ad008",
        "colab": {
          "base_uri": "https://localhost:8080/"
        }
      },
      "source": [
        "print(f'Coeficientes mayores a cero: {(ridge_classifier.coef_>0).sum()}')"
      ],
      "execution_count": 134,
      "outputs": [
        {
          "output_type": "stream",
          "text": [
            "Coeficientes mayores a cero: 204\n"
          ],
          "name": "stdout"
        }
      ]
    },
    {
      "cell_type": "code",
      "metadata": {
        "id": "Omn4C8BlQMys",
        "outputId": "3fe009fe-7587-4268-eceb-b68fba8a885e",
        "colab": {
          "base_uri": "https://localhost:8080/"
        }
      },
      "source": [
        "ridge_classifier.C_"
      ],
      "execution_count": 135,
      "outputs": [
        {
          "output_type": "execute_result",
          "data": {
            "text/plain": [
              "array([166.81005372])"
            ]
          },
          "metadata": {
            "tags": []
          },
          "execution_count": 135
        }
      ]
    },
    {
      "cell_type": "code",
      "metadata": {
        "id": "39qLEEtnQMys",
        "outputId": "bc5fa8d2-230e-4803-944f-0ad35e385911",
        "colab": {
          "base_uri": "https://localhost:8080/"
        }
      },
      "source": [
        "print(f'Mejor valor para lambda: {1/ridge_classifier.C_}')"
      ],
      "execution_count": 136,
      "outputs": [
        {
          "output_type": "stream",
          "text": [
            "Mejor valor para lambda: [0.00599484]\n"
          ],
          "name": "stdout"
        }
      ]
    },
    {
      "cell_type": "code",
      "metadata": {
        "id": "7FfAoxepQMyt",
        "outputId": "198225d5-8a79-48e0-f3f9-c76c3d50855e",
        "colab": {
          "base_uri": "https://localhost:8080/"
        }
      },
      "source": [
        "print('================ Resultados Ridge Classifier =================\\n')\n",
        "print(classification_report(y_test, ridge_classifier.predict(X_test_cod)))"
      ],
      "execution_count": 137,
      "outputs": [
        {
          "output_type": "stream",
          "text": [
            "================ Resultados Ridge Classifier =================\n",
            "\n",
            "              precision    recall  f1-score   support\n",
            "\n",
            "           0       0.62      0.50      0.56        50\n",
            "           1       0.84      0.90      0.87       150\n",
            "\n",
            "    accuracy                           0.80       200\n",
            "   macro avg       0.73      0.70      0.71       200\n",
            "weighted avg       0.79      0.80      0.79       200\n",
            "\n"
          ],
          "name": "stdout"
        }
      ]
    },
    {
      "cell_type": "markdown",
      "metadata": {
        "id": "yTvrCAncL9_S"
      },
      "source": [
        "## Regresión LASSO"
      ]
    },
    {
      "cell_type": "code",
      "metadata": {
        "id": "LiABPLonbb8N",
        "outputId": "e0e836cb-bf2f-45f0-89f4-050f312d4914",
        "colab": {
          "base_uri": "https://localhost:8080/"
        }
      },
      "source": [
        "lasso_classifier = LogisticRegressionCV(cv=2, penalty='l1', max_iter=100, solver='liblinear')\n",
        "lasso_classifier.fit(X_train_cod,y_train)\n",
        "# 21 sec"
      ],
      "execution_count": 138,
      "outputs": [
        {
          "output_type": "stream",
          "text": [
            "/usr/local/lib/python3.7/dist-packages/sklearn/svm/_base.py:986: ConvergenceWarning:\n",
            "\n",
            "Liblinear failed to converge, increase the number of iterations.\n",
            "\n",
            "/usr/local/lib/python3.7/dist-packages/sklearn/svm/_base.py:986: ConvergenceWarning:\n",
            "\n",
            "Liblinear failed to converge, increase the number of iterations.\n",
            "\n",
            "/usr/local/lib/python3.7/dist-packages/sklearn/svm/_base.py:986: ConvergenceWarning:\n",
            "\n",
            "Liblinear failed to converge, increase the number of iterations.\n",
            "\n",
            "/usr/local/lib/python3.7/dist-packages/sklearn/svm/_base.py:986: ConvergenceWarning:\n",
            "\n",
            "Liblinear failed to converge, increase the number of iterations.\n",
            "\n",
            "/usr/local/lib/python3.7/dist-packages/sklearn/svm/_base.py:986: ConvergenceWarning:\n",
            "\n",
            "Liblinear failed to converge, increase the number of iterations.\n",
            "\n",
            "/usr/local/lib/python3.7/dist-packages/sklearn/svm/_base.py:986: ConvergenceWarning:\n",
            "\n",
            "Liblinear failed to converge, increase the number of iterations.\n",
            "\n",
            "/usr/local/lib/python3.7/dist-packages/sklearn/svm/_base.py:986: ConvergenceWarning:\n",
            "\n",
            "Liblinear failed to converge, increase the number of iterations.\n",
            "\n",
            "/usr/local/lib/python3.7/dist-packages/sklearn/svm/_base.py:986: ConvergenceWarning:\n",
            "\n",
            "Liblinear failed to converge, increase the number of iterations.\n",
            "\n",
            "/usr/local/lib/python3.7/dist-packages/sklearn/svm/_base.py:986: ConvergenceWarning:\n",
            "\n",
            "Liblinear failed to converge, increase the number of iterations.\n",
            "\n",
            "/usr/local/lib/python3.7/dist-packages/sklearn/svm/_base.py:986: ConvergenceWarning:\n",
            "\n",
            "Liblinear failed to converge, increase the number of iterations.\n",
            "\n",
            "/usr/local/lib/python3.7/dist-packages/sklearn/svm/_base.py:986: ConvergenceWarning:\n",
            "\n",
            "Liblinear failed to converge, increase the number of iterations.\n",
            "\n",
            "/usr/local/lib/python3.7/dist-packages/sklearn/svm/_base.py:986: ConvergenceWarning:\n",
            "\n",
            "Liblinear failed to converge, increase the number of iterations.\n",
            "\n",
            "/usr/local/lib/python3.7/dist-packages/sklearn/svm/_base.py:986: ConvergenceWarning:\n",
            "\n",
            "Liblinear failed to converge, increase the number of iterations.\n",
            "\n",
            "/usr/local/lib/python3.7/dist-packages/sklearn/svm/_base.py:986: ConvergenceWarning:\n",
            "\n",
            "Liblinear failed to converge, increase the number of iterations.\n",
            "\n"
          ],
          "name": "stderr"
        },
        {
          "output_type": "execute_result",
          "data": {
            "text/plain": [
              "LogisticRegressionCV(cv=2, penalty='l1', solver='liblinear')"
            ]
          },
          "metadata": {
            "tags": []
          },
          "execution_count": 138
        }
      ]
    },
    {
      "cell_type": "code",
      "metadata": {
        "id": "AxqYvjHTKG_N",
        "outputId": "93c8a8d0-dcbb-47e7-deb6-3af9e03da01d",
        "colab": {
          "base_uri": "https://localhost:8080/"
        }
      },
      "source": [
        "lasso_classifier.classes_"
      ],
      "execution_count": 139,
      "outputs": [
        {
          "output_type": "execute_result",
          "data": {
            "text/plain": [
              "array([0, 1])"
            ]
          },
          "metadata": {
            "tags": []
          },
          "execution_count": 139
        }
      ]
    },
    {
      "cell_type": "code",
      "metadata": {
        "id": "99UCUElqKHCe",
        "outputId": "31420bc5-79d9-4905-8053-e7bef7aaacf4",
        "colab": {
          "base_uri": "https://localhost:8080/"
        }
      },
      "source": [
        "lasso_classifier.coef_"
      ],
      "execution_count": 140,
      "outputs": [
        {
          "output_type": "execute_result",
          "data": {
            "text/plain": [
              "array([[ 0.00000000e+00,  0.00000000e+00, -4.38145577e-01,\n",
              "         0.00000000e+00,  0.00000000e+00, -1.69448200e-03,\n",
              "         0.00000000e+00,  0.00000000e+00,  0.00000000e+00,\n",
              "         0.00000000e+00,  0.00000000e+00,  0.00000000e+00,\n",
              "         0.00000000e+00, -4.12924209e-01,  0.00000000e+00,\n",
              "         0.00000000e+00,  0.00000000e+00,  0.00000000e+00,\n",
              "         0.00000000e+00,  0.00000000e+00,  0.00000000e+00,\n",
              "         0.00000000e+00,  1.84887621e-01,  0.00000000e+00,\n",
              "         0.00000000e+00, -5.50974753e-04,  0.00000000e+00,\n",
              "         0.00000000e+00,  0.00000000e+00,  0.00000000e+00,\n",
              "         0.00000000e+00,  0.00000000e+00,  0.00000000e+00,\n",
              "         8.90173375e-02,  0.00000000e+00,  0.00000000e+00,\n",
              "         0.00000000e+00,  0.00000000e+00,  0.00000000e+00,\n",
              "         0.00000000e+00,  0.00000000e+00, -1.53264321e-03,\n",
              "        -3.59957202e-01,  3.27072959e-02,  2.38066964e-05,\n",
              "         1.98203936e-01,  1.04899354e-01, -1.48001668e-02,\n",
              "         0.00000000e+00,  0.00000000e+00,  1.13704281e-01,\n",
              "        -6.58564736e-02,  1.41430923e-03,  2.17223813e-01,\n",
              "         1.75616805e-01,  0.00000000e+00, -6.28401455e-02,\n",
              "         2.74903770e-03,  0.00000000e+00,  0.00000000e+00,\n",
              "         0.00000000e+00,  0.00000000e+00,  4.14704363e-04,\n",
              "         0.00000000e+00,  0.00000000e+00,  0.00000000e+00,\n",
              "         0.00000000e+00,  0.00000000e+00,  0.00000000e+00,\n",
              "         0.00000000e+00,  2.95650017e-01,  0.00000000e+00,\n",
              "         0.00000000e+00,  0.00000000e+00,  0.00000000e+00,\n",
              "         0.00000000e+00,  0.00000000e+00,  0.00000000e+00,\n",
              "         0.00000000e+00, -4.89645590e-04,  0.00000000e+00,\n",
              "         0.00000000e+00,  0.00000000e+00,  0.00000000e+00,\n",
              "         0.00000000e+00,  0.00000000e+00,  0.00000000e+00,\n",
              "         1.67172375e-01,  0.00000000e+00,  0.00000000e+00,\n",
              "         0.00000000e+00,  0.00000000e+00,  0.00000000e+00,\n",
              "         0.00000000e+00,  0.00000000e+00, -9.30297172e-08,\n",
              "        -3.69066683e-04, -1.81020734e-04,  2.81675089e-05,\n",
              "         2.32399897e-03,  8.13167103e-04,  2.68230356e-03,\n",
              "        -1.86912896e-04, -1.51192620e-05, -8.75304588e-04,\n",
              "        -4.68466041e-04, -2.70400137e-05, -1.38106147e-03,\n",
              "         1.62014416e-04, -3.87522982e-05,  1.57940417e-03,\n",
              "         0.00000000e+00,  0.00000000e+00,  0.00000000e+00,\n",
              "         0.00000000e+00,  0.00000000e+00,  0.00000000e+00,\n",
              "         0.00000000e+00,  0.00000000e+00,  0.00000000e+00,\n",
              "         0.00000000e+00,  0.00000000e+00,  0.00000000e+00,\n",
              "         0.00000000e+00,  0.00000000e+00,  0.00000000e+00,\n",
              "         0.00000000e+00,  0.00000000e+00,  0.00000000e+00,\n",
              "         0.00000000e+00,  0.00000000e+00,  0.00000000e+00,\n",
              "         6.72541830e-02,  0.00000000e+00,  0.00000000e+00,\n",
              "         0.00000000e+00,  0.00000000e+00,  0.00000000e+00,\n",
              "         0.00000000e+00,  0.00000000e+00,  6.95912540e-02,\n",
              "         0.00000000e+00,  0.00000000e+00,  0.00000000e+00,\n",
              "         0.00000000e+00, -7.32102442e-03,  0.00000000e+00,\n",
              "         0.00000000e+00,  5.29252895e-02,  0.00000000e+00,\n",
              "        -1.56417726e-01,  0.00000000e+00,  0.00000000e+00,\n",
              "         0.00000000e+00,  0.00000000e+00,  0.00000000e+00,\n",
              "         0.00000000e+00, -7.55764843e-02,  0.00000000e+00,\n",
              "         0.00000000e+00,  0.00000000e+00,  0.00000000e+00,\n",
              "         0.00000000e+00,  0.00000000e+00,  0.00000000e+00,\n",
              "         0.00000000e+00,  0.00000000e+00,  0.00000000e+00,\n",
              "         1.36387025e-01,  0.00000000e+00,  0.00000000e+00,\n",
              "         0.00000000e+00,  0.00000000e+00,  0.00000000e+00,\n",
              "         0.00000000e+00,  0.00000000e+00,  0.00000000e+00,\n",
              "         0.00000000e+00, -7.30777250e-02,  0.00000000e+00,\n",
              "         0.00000000e+00,  0.00000000e+00,  0.00000000e+00,\n",
              "         0.00000000e+00,  0.00000000e+00,  0.00000000e+00,\n",
              "         0.00000000e+00,  6.41965455e-02,  0.00000000e+00,\n",
              "         0.00000000e+00,  0.00000000e+00,  0.00000000e+00,\n",
              "         0.00000000e+00,  0.00000000e+00,  0.00000000e+00,\n",
              "         2.81020268e-04, -4.06769824e-03, -1.41657526e-02,\n",
              "        -2.18383663e-02,  0.00000000e+00, -1.57709123e-02,\n",
              "         4.48079378e-02,  3.74648350e-02,  0.00000000e+00,\n",
              "         0.00000000e+00,  0.00000000e+00,  0.00000000e+00,\n",
              "         0.00000000e+00,  0.00000000e+00,  0.00000000e+00,\n",
              "         0.00000000e+00,  0.00000000e+00,  0.00000000e+00,\n",
              "         0.00000000e+00,  0.00000000e+00,  0.00000000e+00,\n",
              "         0.00000000e+00,  0.00000000e+00,  2.69847866e-01,\n",
              "         0.00000000e+00,  0.00000000e+00,  0.00000000e+00,\n",
              "         0.00000000e+00,  0.00000000e+00,  0.00000000e+00,\n",
              "         0.00000000e+00,  0.00000000e+00,  0.00000000e+00,\n",
              "         0.00000000e+00,  0.00000000e+00,  0.00000000e+00]])"
            ]
          },
          "metadata": {
            "tags": []
          },
          "execution_count": 140
        }
      ]
    },
    {
      "cell_type": "code",
      "metadata": {
        "id": "rvVuGWPBP67j",
        "outputId": "3a0a6e10-b740-4166-f6b5-b16ad1519a60",
        "colab": {
          "base_uri": "https://localhost:8080/"
        }
      },
      "source": [
        "print(f'Coeficientes mayores a cero: {(lasso_classifier.coef_>0).sum()}')"
      ],
      "execution_count": 141,
      "outputs": [
        {
          "output_type": "stream",
          "text": [
            "Coeficientes mayores a cero: 29\n"
          ],
          "name": "stdout"
        }
      ]
    },
    {
      "cell_type": "code",
      "metadata": {
        "id": "lD-YSULoKHFa",
        "outputId": "78ec0be8-9431-4b33-9c3a-f6a222beee04",
        "colab": {
          "base_uri": "https://localhost:8080/"
        }
      },
      "source": [
        "lasso_classifier.C_"
      ],
      "execution_count": 142,
      "outputs": [
        {
          "output_type": "execute_result",
          "data": {
            "text/plain": [
              "array([0.35938137])"
            ]
          },
          "metadata": {
            "tags": []
          },
          "execution_count": 142
        }
      ]
    },
    {
      "cell_type": "code",
      "metadata": {
        "id": "WGqRToQyKHIA",
        "outputId": "81ff9f50-1f2f-4d32-cef7-185de1798c18",
        "colab": {
          "base_uri": "https://localhost:8080/"
        }
      },
      "source": [
        "print(f'Mejor valor para lambda: {1/lasso_classifier.C_}')"
      ],
      "execution_count": 143,
      "outputs": [
        {
          "output_type": "stream",
          "text": [
            "Mejor valor para lambda: [2.7825594]\n"
          ],
          "name": "stdout"
        }
      ]
    },
    {
      "cell_type": "code",
      "metadata": {
        "id": "-oy3pMVgKHK0",
        "outputId": "3cc0112c-2b33-46bf-9553-7765d2bddab6",
        "colab": {
          "base_uri": "https://localhost:8080/"
        }
      },
      "source": [
        "print('================ Resultados LASSO Logistic Regressor =================\\n')\n",
        "print(classification_report(y_test, lasso_classifier.predict(X_test_cod)))"
      ],
      "execution_count": 144,
      "outputs": [
        {
          "output_type": "stream",
          "text": [
            "================ Resultados LASSO Logistic Regressor =================\n",
            "\n",
            "              precision    recall  f1-score   support\n",
            "\n",
            "           0       0.57      0.62      0.60        50\n",
            "           1       0.87      0.85      0.86       150\n",
            "\n",
            "    accuracy                           0.79       200\n",
            "   macro avg       0.72      0.73      0.73       200\n",
            "weighted avg       0.80      0.79      0.79       200\n",
            "\n"
          ],
          "name": "stdout"
        }
      ]
    },
    {
      "cell_type": "markdown",
      "metadata": {
        "id": "pEbpMvp9ROmb"
      },
      "source": [
        "## Elastic Net (L1 y L2 regularizer combinados)"
      ]
    },
    {
      "cell_type": "code",
      "metadata": {
        "id": "qrFbEGRIRVV_",
        "outputId": "8548d6ee-c6ba-445c-ac42-91e4d856f336",
        "colab": {
          "base_uri": "https://localhost:8080/"
        }
      },
      "source": [
        "elastic_classifier = LogisticRegressionCV(cv=2, penalty='elasticnet', solver='saga', max_iter=100, l1_ratios=[0.5])\n",
        "elastic_classifier.fit(X_train_cod,y_train)"
      ],
      "execution_count": 145,
      "outputs": [
        {
          "output_type": "stream",
          "text": [
            "/usr/local/lib/python3.7/dist-packages/sklearn/linear_model/_sag.py:329: ConvergenceWarning:\n",
            "\n",
            "The max_iter was reached which means the coef_ did not converge\n",
            "\n",
            "/usr/local/lib/python3.7/dist-packages/sklearn/linear_model/_sag.py:329: ConvergenceWarning:\n",
            "\n",
            "The max_iter was reached which means the coef_ did not converge\n",
            "\n",
            "/usr/local/lib/python3.7/dist-packages/sklearn/linear_model/_sag.py:329: ConvergenceWarning:\n",
            "\n",
            "The max_iter was reached which means the coef_ did not converge\n",
            "\n",
            "/usr/local/lib/python3.7/dist-packages/sklearn/linear_model/_sag.py:329: ConvergenceWarning:\n",
            "\n",
            "The max_iter was reached which means the coef_ did not converge\n",
            "\n",
            "/usr/local/lib/python3.7/dist-packages/sklearn/linear_model/_sag.py:329: ConvergenceWarning:\n",
            "\n",
            "The max_iter was reached which means the coef_ did not converge\n",
            "\n",
            "/usr/local/lib/python3.7/dist-packages/sklearn/linear_model/_sag.py:329: ConvergenceWarning:\n",
            "\n",
            "The max_iter was reached which means the coef_ did not converge\n",
            "\n",
            "/usr/local/lib/python3.7/dist-packages/sklearn/linear_model/_sag.py:329: ConvergenceWarning:\n",
            "\n",
            "The max_iter was reached which means the coef_ did not converge\n",
            "\n",
            "/usr/local/lib/python3.7/dist-packages/sklearn/linear_model/_sag.py:329: ConvergenceWarning:\n",
            "\n",
            "The max_iter was reached which means the coef_ did not converge\n",
            "\n",
            "/usr/local/lib/python3.7/dist-packages/sklearn/linear_model/_sag.py:329: ConvergenceWarning:\n",
            "\n",
            "The max_iter was reached which means the coef_ did not converge\n",
            "\n",
            "/usr/local/lib/python3.7/dist-packages/sklearn/linear_model/_sag.py:329: ConvergenceWarning:\n",
            "\n",
            "The max_iter was reached which means the coef_ did not converge\n",
            "\n",
            "/usr/local/lib/python3.7/dist-packages/sklearn/linear_model/_sag.py:329: ConvergenceWarning:\n",
            "\n",
            "The max_iter was reached which means the coef_ did not converge\n",
            "\n",
            "/usr/local/lib/python3.7/dist-packages/sklearn/linear_model/_sag.py:329: ConvergenceWarning:\n",
            "\n",
            "The max_iter was reached which means the coef_ did not converge\n",
            "\n",
            "/usr/local/lib/python3.7/dist-packages/sklearn/linear_model/_sag.py:329: ConvergenceWarning:\n",
            "\n",
            "The max_iter was reached which means the coef_ did not converge\n",
            "\n",
            "/usr/local/lib/python3.7/dist-packages/sklearn/linear_model/_sag.py:329: ConvergenceWarning:\n",
            "\n",
            "The max_iter was reached which means the coef_ did not converge\n",
            "\n",
            "/usr/local/lib/python3.7/dist-packages/sklearn/linear_model/_sag.py:329: ConvergenceWarning:\n",
            "\n",
            "The max_iter was reached which means the coef_ did not converge\n",
            "\n",
            "/usr/local/lib/python3.7/dist-packages/sklearn/linear_model/_sag.py:329: ConvergenceWarning:\n",
            "\n",
            "The max_iter was reached which means the coef_ did not converge\n",
            "\n",
            "/usr/local/lib/python3.7/dist-packages/sklearn/linear_model/_sag.py:329: ConvergenceWarning:\n",
            "\n",
            "The max_iter was reached which means the coef_ did not converge\n",
            "\n",
            "/usr/local/lib/python3.7/dist-packages/sklearn/linear_model/_sag.py:329: ConvergenceWarning:\n",
            "\n",
            "The max_iter was reached which means the coef_ did not converge\n",
            "\n",
            "/usr/local/lib/python3.7/dist-packages/sklearn/linear_model/_sag.py:329: ConvergenceWarning:\n",
            "\n",
            "The max_iter was reached which means the coef_ did not converge\n",
            "\n",
            "/usr/local/lib/python3.7/dist-packages/sklearn/linear_model/_sag.py:329: ConvergenceWarning:\n",
            "\n",
            "The max_iter was reached which means the coef_ did not converge\n",
            "\n",
            "/usr/local/lib/python3.7/dist-packages/sklearn/linear_model/_sag.py:329: ConvergenceWarning:\n",
            "\n",
            "The max_iter was reached which means the coef_ did not converge\n",
            "\n"
          ],
          "name": "stderr"
        },
        {
          "output_type": "execute_result",
          "data": {
            "text/plain": [
              "LogisticRegressionCV(cv=2, l1_ratios=[0.5], penalty='elasticnet', solver='saga')"
            ]
          },
          "metadata": {
            "tags": []
          },
          "execution_count": 145
        }
      ]
    },
    {
      "cell_type": "code",
      "metadata": {
        "id": "8ZiM_5tARVV_",
        "outputId": "cd00084b-88f4-4472-c4a5-74d45673f92c",
        "colab": {
          "base_uri": "https://localhost:8080/"
        }
      },
      "source": [
        "elastic_classifier.classes_"
      ],
      "execution_count": 146,
      "outputs": [
        {
          "output_type": "execute_result",
          "data": {
            "text/plain": [
              "array([0, 1])"
            ]
          },
          "metadata": {
            "tags": []
          },
          "execution_count": 146
        }
      ]
    },
    {
      "cell_type": "code",
      "metadata": {
        "id": "jVIu9FNzRVV_",
        "outputId": "d4e736a6-b8ec-4494-cc51-8b31a99c9a75",
        "colab": {
          "base_uri": "https://localhost:8080/"
        }
      },
      "source": [
        "elastic_classifier.coef_"
      ],
      "execution_count": 147,
      "outputs": [
        {
          "output_type": "execute_result",
          "data": {
            "text/plain": [
              "array([[1.10823430e-12, 9.26588398e-13, 1.76086089e-11, 8.40265170e-13,\n",
              "        7.94864849e-13, 2.98318409e-09, 8.03644440e-13, 7.91646623e-13,\n",
              "        3.35127699e-12, 7.71488306e-13, 7.65243788e-13, 7.56841842e-13,\n",
              "        7.92179757e-13, 5.15355645e-11, 7.72390425e-13, 7.77860297e-13,\n",
              "        1.70448125e-12, 7.61839136e-13, 1.30187844e-12, 7.56456145e-13,\n",
              "        7.63391381e-13, 7.79113510e-13, 1.65264675e-11, 6.89498046e-13,\n",
              "        6.59379217e-13, 2.77473485e-09, 6.66282182e-13, 6.57394363e-13,\n",
              "        2.85859040e-12, 6.41859423e-13, 6.35705637e-13, 6.31005534e-13,\n",
              "        6.54061818e-13, 4.26140995e-11, 6.44047095e-13, 6.46506519e-13,\n",
              "        1.38003895e-12, 6.35658260e-13, 1.07863056e-12, 6.31339430e-13,\n",
              "        6.35085276e-13, 2.76872049e-10, 1.33598795e-11, 1.29263143e-11,\n",
              "        3.87147100e-08, 1.33421186e-11, 1.27002570e-11, 5.18456412e-11,\n",
              "        1.21682316e-11, 1.19654892e-11, 1.17930475e-11, 1.25008690e-11,\n",
              "        7.77376978e-10, 1.20286929e-11, 1.24118467e-11, 2.68948974e-11,\n",
              "        1.17478605e-11, 2.09534540e-11, 1.18032242e-11, 1.17308027e-11,\n",
              "        6.35760339e-13, 5.97063974e-13, 2.38328376e-09, 6.02964794e-13,\n",
              "        5.97399718e-13, 2.53530471e-12, 5.82479174e-13, 5.77362991e-13,\n",
              "        5.72251459e-13, 5.94761148e-13, 3.93290257e-11, 5.84801428e-13,\n",
              "        5.85554242e-13, 1.30533241e-12, 5.75151484e-13, 9.93895596e-13,\n",
              "        5.72031309e-13, 5.76793079e-13, 5.74533267e-13, 2.26291313e-09,\n",
              "        5.73510947e-13, 5.65394050e-13, 2.38877769e-12, 5.51359738e-13,\n",
              "        5.46808361e-13, 5.40758407e-13, 5.65291614e-13, 3.65649409e-11,\n",
              "        5.51535441e-13, 5.56246166e-13, 1.18664692e-12, 5.44021382e-13,\n",
              "        9.27171417e-13, 5.40551945e-13, 5.44633893e-13, 7.25859581e-10,\n",
              "        2.30056295e-09, 2.21744679e-09, 8.15667833e-09, 2.14107071e-09,\n",
              "        2.09638190e-09, 2.06188351e-09, 2.20400888e-09, 1.09968956e-07,\n",
              "        2.10515356e-09, 2.14800766e-09, 4.49689951e-09, 2.07619661e-09,\n",
              "        3.74535264e-09, 2.04357041e-09, 2.04731892e-09, 5.91628144e-13,\n",
              "        5.71200676e-13, 2.43118141e-12, 5.56634150e-13, 5.51965508e-13,\n",
              "        5.46669195e-13, 5.70899734e-13, 3.72821976e-11, 5.57833365e-13,\n",
              "        5.61554515e-13, 1.19463542e-12, 5.50338431e-13, 9.39746188e-13,\n",
              "        5.46883026e-13, 5.51311590e-13, 5.67652248e-13, 2.38369509e-12,\n",
              "        5.48547682e-13, 5.43880842e-13, 5.38567840e-13, 5.62801690e-13,\n",
              "        3.66850939e-11, 5.50335430e-13, 5.53790629e-13, 1.19311286e-12,\n",
              "        5.42496687e-13, 9.26164314e-13, 5.38682692e-13, 5.42707584e-13,\n",
              "        1.13593438e-11, 2.31939829e-12, 2.28240757e-12, 2.25667742e-12,\n",
              "        2.36266692e-12, 1.55047840e-10, 2.30956402e-12, 2.34300983e-12,\n",
              "        5.20116055e-12, 2.26758534e-12, 3.78807988e-12, 2.26432210e-12,\n",
              "        2.27254102e-12, 5.37340924e-13, 5.30600037e-13, 5.24822118e-13,\n",
              "        5.49320421e-13, 3.56995956e-11, 5.35418456e-13, 5.39210804e-13,\n",
              "        1.16052597e-12, 5.28235482e-13, 9.05604987e-13, 5.24586582e-13,\n",
              "        5.29697689e-13, 5.27539598e-13, 5.20514716e-13, 5.45299782e-13,\n",
              "        3.54404986e-11, 5.31311623e-13, 5.35299930e-13, 1.15028878e-12,\n",
              "        5.24024053e-13, 8.98415451e-13, 5.20219483e-13, 5.24993087e-13,\n",
              "        5.15050293e-13, 5.38934159e-13, 3.50559108e-11, 5.25208125e-13,\n",
              "        5.29176899e-13, 1.13935739e-12, 5.18204476e-13, 8.87357526e-13,\n",
              "        5.14485072e-13, 5.19204595e-13, 5.68800400e-13, 3.67544185e-11,\n",
              "        5.50217767e-13, 5.54786146e-13, 1.18716570e-12, 5.43413621e-13,\n",
              "        9.33916438e-13, 5.38518039e-13, 5.44151420e-13, 2.37019839e-09,\n",
              "        3.58233241e-11, 3.61369556e-11, 7.90847624e-11, 3.52735685e-11,\n",
              "        6.03810490e-11, 3.51310865e-11, 3.53962519e-11, 5.37677459e-13,\n",
              "        5.40051763e-13, 1.15916506e-12, 5.29153084e-13, 9.05769368e-13,\n",
              "        5.25124242e-13, 5.30118579e-13, 5.46274509e-13, 1.17223599e-12,\n",
              "        5.33140911e-13, 9.13447768e-13, 5.28816696e-13, 5.33498203e-13,\n",
              "        3.07587915e-12, 1.14697102e-12, 2.06954174e-12, 1.13812607e-12,\n",
              "        1.14784389e-12, 5.22440487e-13, 8.92674536e-13, 5.17711568e-13,\n",
              "        5.22991125e-13, 1.71690875e-12, 8.86759553e-13, 8.99388278e-13,\n",
              "        5.14515895e-13, 5.18780146e-13, 5.26630736e-13]])"
            ]
          },
          "metadata": {
            "tags": []
          },
          "execution_count": 147
        }
      ]
    },
    {
      "cell_type": "code",
      "metadata": {
        "id": "Fma_i1dARVWA",
        "outputId": "c2e4e303-46fe-4266-8d5a-c01c870ec6c8",
        "colab": {
          "base_uri": "https://localhost:8080/"
        }
      },
      "source": [
        "print(f'Coeficientes mayores a cero: {(elastic_classifier.coef_>0).sum()}')"
      ],
      "execution_count": 148,
      "outputs": [
        {
          "output_type": "stream",
          "text": [
            "Coeficientes mayores a cero: 231\n"
          ],
          "name": "stdout"
        }
      ]
    },
    {
      "cell_type": "code",
      "metadata": {
        "id": "qNff6KeMRVWA",
        "outputId": "e03197bc-aeb6-4739-d110-443107e0e1f0",
        "colab": {
          "base_uri": "https://localhost:8080/"
        }
      },
      "source": [
        "elastic_classifier.C_"
      ],
      "execution_count": 149,
      "outputs": [
        {
          "output_type": "execute_result",
          "data": {
            "text/plain": [
              "array([10000.])"
            ]
          },
          "metadata": {
            "tags": []
          },
          "execution_count": 149
        }
      ]
    },
    {
      "cell_type": "code",
      "metadata": {
        "id": "Zv6b4KOlRVWA",
        "outputId": "6fd3f40b-dc26-451d-df85-6ca0139e7f99",
        "colab": {
          "base_uri": "https://localhost:8080/"
        }
      },
      "source": [
        "print(f'Mejor valor para lambda: {1/elastic_classifier.C_}')"
      ],
      "execution_count": 150,
      "outputs": [
        {
          "output_type": "stream",
          "text": [
            "Mejor valor para lambda: [0.0001]\n"
          ],
          "name": "stdout"
        }
      ]
    },
    {
      "cell_type": "code",
      "metadata": {
        "id": "QOwV38xSRVWA",
        "outputId": "b7b6bdde-78ec-4679-97f6-ec918d49b249",
        "colab": {
          "base_uri": "https://localhost:8080/"
        }
      },
      "source": [
        "print('================ Resultados de la Elastic Net =================\\n')\n",
        "print(classification_report(y_test, elastic_classifier.predict(X_test_cod)))"
      ],
      "execution_count": 151,
      "outputs": [
        {
          "output_type": "stream",
          "text": [
            "================ Resultados de la Elastic Net =================\n",
            "\n",
            "              precision    recall  f1-score   support\n",
            "\n",
            "           0       0.00      0.00      0.00        50\n",
            "           1       0.75      1.00      0.86       150\n",
            "\n",
            "    accuracy                           0.75       200\n",
            "   macro avg       0.38      0.50      0.43       200\n",
            "weighted avg       0.56      0.75      0.64       200\n",
            "\n"
          ],
          "name": "stdout"
        },
        {
          "output_type": "stream",
          "text": [
            "/usr/local/lib/python3.7/dist-packages/sklearn/metrics/_classification.py:1248: UndefinedMetricWarning:\n",
            "\n",
            "Precision and F-score are ill-defined and being set to 0.0 in labels with no predicted samples. Use `zero_division` parameter to control this behavior.\n",
            "\n",
            "/usr/local/lib/python3.7/dist-packages/sklearn/metrics/_classification.py:1248: UndefinedMetricWarning:\n",
            "\n",
            "Precision and F-score are ill-defined and being set to 0.0 in labels with no predicted samples. Use `zero_division` parameter to control this behavior.\n",
            "\n",
            "/usr/local/lib/python3.7/dist-packages/sklearn/metrics/_classification.py:1248: UndefinedMetricWarning:\n",
            "\n",
            "Precision and F-score are ill-defined and being set to 0.0 in labels with no predicted samples. Use `zero_division` parameter to control this behavior.\n",
            "\n"
          ],
          "name": "stderr"
        }
      ]
    },
    {
      "cell_type": "markdown",
      "metadata": {
        "id": "MJZCzbdOL-EZ"
      },
      "source": [
        "## Árboles de Decisión"
      ]
    },
    {
      "cell_type": "code",
      "metadata": {
        "id": "JgPFaxxAL-MV"
      },
      "source": [
        "from sklearn.tree import DecisionTreeClassifier\n",
        "from sklearn.ensemble import RandomForestClassifier, GradientBoostingClassifier"
      ],
      "execution_count": 152,
      "outputs": []
    },
    {
      "cell_type": "code",
      "metadata": {
        "id": "ofsyk40KTT49",
        "outputId": "2caea018-47a8-4a66-9214-22df99c33087",
        "colab": {
          "base_uri": "https://localhost:8080/"
        }
      },
      "source": [
        "dt = DecisionTreeClassifier()\n",
        "dt.fit(X_train_cod, y_train)"
      ],
      "execution_count": 153,
      "outputs": [
        {
          "output_type": "execute_result",
          "data": {
            "text/plain": [
              "DecisionTreeClassifier()"
            ]
          },
          "metadata": {
            "tags": []
          },
          "execution_count": 153
        }
      ]
    },
    {
      "cell_type": "code",
      "metadata": {
        "id": "5IMfXYlrTT74",
        "outputId": "5d9d3b95-7c51-41b1-c06d-0de7705ed68d",
        "colab": {
          "base_uri": "https://localhost:8080/"
        }
      },
      "source": [
        "dt.feature_importances_"
      ],
      "execution_count": 154,
      "outputs": [
        {
          "output_type": "execute_result",
          "data": {
            "text/plain": [
              "array([0.        , 0.        , 0.        , 0.        , 0.00387879,\n",
              "       0.        , 0.        , 0.        , 0.        , 0.        ,\n",
              "       0.        , 0.        , 0.        , 0.        , 0.        ,\n",
              "       0.        , 0.        , 0.        , 0.        , 0.        ,\n",
              "       0.        , 0.        , 0.        , 0.01570909, 0.00549495,\n",
              "       0.0080881 , 0.13687648, 0.00561755, 0.        , 0.00551196,\n",
              "       0.        , 0.00857522, 0.        , 0.01602425, 0.        ,\n",
              "       0.        , 0.        , 0.00484848, 0.        , 0.        ,\n",
              "       0.        , 0.        , 0.        , 0.0097467 , 0.        ,\n",
              "       0.        , 0.        , 0.01801024, 0.        , 0.00620606,\n",
              "       0.01206988, 0.03660315, 0.00649533, 0.00930909, 0.01207273,\n",
              "       0.        , 0.        , 0.        , 0.        , 0.        ,\n",
              "       0.        , 0.01994834, 0.08174029, 0.        , 0.        ,\n",
              "       0.        , 0.        , 0.        , 0.        , 0.05169166,\n",
              "       0.        , 0.00555372, 0.        , 0.00487378, 0.00498701,\n",
              "       0.        , 0.01164735, 0.        , 0.        , 0.        ,\n",
              "       0.01164329, 0.01864796, 0.        , 0.00290909, 0.        ,\n",
              "       0.00115419, 0.        , 0.00563636, 0.01666116, 0.00167493,\n",
              "       0.01101801, 0.        , 0.01014784, 0.        , 0.00833333,\n",
              "       0.        , 0.        , 0.0276306 , 0.01810101, 0.        ,\n",
              "       0.        , 0.        , 0.        , 0.00556522, 0.00480416,\n",
              "       0.00275184, 0.00997403, 0.00645165, 0.        , 0.00509091,\n",
              "       0.        , 0.        , 0.        , 0.00952066, 0.00551196,\n",
              "       0.        , 0.        , 0.        , 0.01459145, 0.        ,\n",
              "       0.        , 0.        , 0.01187879, 0.        , 0.        ,\n",
              "       0.        , 0.        , 0.        , 0.        , 0.01480353,\n",
              "       0.        , 0.00484848, 0.00484848, 0.03041064, 0.01065344,\n",
              "       0.        , 0.01847771, 0.        , 0.        , 0.        ,\n",
              "       0.        , 0.        , 0.        , 0.        , 0.01623039,\n",
              "       0.00484848, 0.        , 0.        , 0.        , 0.        ,\n",
              "       0.        , 0.        , 0.        , 0.        , 0.        ,\n",
              "       0.        , 0.        , 0.0053921 , 0.        , 0.01292308,\n",
              "       0.0140269 , 0.        , 0.        , 0.00555372, 0.00898024,\n",
              "       0.        , 0.        , 0.01114007, 0.        , 0.        ,\n",
              "       0.        , 0.        , 0.00496077, 0.        , 0.01137389,\n",
              "       0.        , 0.        , 0.01612219, 0.        , 0.        ,\n",
              "       0.        , 0.00086938, 0.        , 0.0050994 , 0.        ,\n",
              "       0.        , 0.        , 0.01000866, 0.        , 0.        ,\n",
              "       0.        , 0.        , 0.        , 0.        , 0.        ,\n",
              "       0.01168214, 0.        , 0.        , 0.01108225, 0.        ,\n",
              "       0.00546098, 0.01078713, 0.        , 0.00387879, 0.        ,\n",
              "       0.        , 0.        , 0.        , 0.        , 0.        ,\n",
              "       0.        , 0.        , 0.01282591, 0.        , 0.        ,\n",
              "       0.        , 0.        , 0.        , 0.0052472 , 0.01618538,\n",
              "       0.        , 0.        , 0.        , 0.        , 0.        ,\n",
              "       0.        , 0.        , 0.        , 0.        , 0.        ,\n",
              "       0.        ])"
            ]
          },
          "metadata": {
            "tags": []
          },
          "execution_count": 154
        }
      ]
    },
    {
      "cell_type": "code",
      "metadata": {
        "id": "yn12IDDGace3",
        "outputId": "b5810e83-a894-4206-ee0e-059682d243c9",
        "colab": {
          "base_uri": "https://localhost:8080/"
        }
      },
      "source": [
        "print(f'Importancias mayores a cero: {(dt.feature_importances_>0).sum()}')"
      ],
      "execution_count": 155,
      "outputs": [
        {
          "output_type": "stream",
          "text": [
            "Importancias mayores a cero: 75\n"
          ],
          "name": "stdout"
        }
      ]
    },
    {
      "cell_type": "code",
      "metadata": {
        "id": "-g5Ok9NxTT-u",
        "outputId": "3c3854d9-b298-4ee5-cca3-478fec48082f",
        "colab": {
          "base_uri": "https://localhost:8080/"
        }
      },
      "source": [
        "print('================ Resultados Decision Tree =================\\n')\n",
        "print(classification_report(y_test, dt.predict(X_test_cod)))"
      ],
      "execution_count": 156,
      "outputs": [
        {
          "output_type": "stream",
          "text": [
            "================ Resultados Decision Tree =================\n",
            "\n",
            "              precision    recall  f1-score   support\n",
            "\n",
            "           0       0.35      0.44      0.39        50\n",
            "           1       0.80      0.73      0.76       150\n",
            "\n",
            "    accuracy                           0.66       200\n",
            "   macro avg       0.58      0.59      0.58       200\n",
            "weighted avg       0.69      0.66      0.67       200\n",
            "\n"
          ],
          "name": "stdout"
        }
      ]
    },
    {
      "cell_type": "markdown",
      "metadata": {
        "id": "tWyHp_OfTUBo"
      },
      "source": [
        "## Ensamblados de árboles"
      ]
    },
    {
      "cell_type": "code",
      "metadata": {
        "id": "nvj-wDSrUp_2",
        "outputId": "6adc8146-ecb8-4e5d-f729-e5597a94ced1",
        "colab": {
          "base_uri": "https://localhost:8080/"
        }
      },
      "source": [
        "rf = RandomForestClassifier()\n",
        "rf.fit(X_train_cod, y_train)"
      ],
      "execution_count": 157,
      "outputs": [
        {
          "output_type": "execute_result",
          "data": {
            "text/plain": [
              "RandomForestClassifier()"
            ]
          },
          "metadata": {
            "tags": []
          },
          "execution_count": 157
        }
      ]
    },
    {
      "cell_type": "code",
      "metadata": {
        "id": "QrAEHOG4Up_8",
        "outputId": "90a0f586-e31d-4665-a701-cb3d6aa33fba",
        "colab": {
          "base_uri": "https://localhost:8080/"
        }
      },
      "source": [
        "rf.feature_importances_"
      ],
      "execution_count": 158,
      "outputs": [
        {
          "output_type": "execute_result",
          "data": {
            "text/plain": [
              "array([0.00000000e+00, 1.69159669e-02, 4.08921657e-03, 1.82228301e-03,\n",
              "       3.24643213e-03, 6.25795369e-03, 1.51404862e-03, 2.10989770e-03,\n",
              "       6.57532858e-04, 1.68366017e-03, 1.07176558e-03, 2.19085101e-03,\n",
              "       5.23130140e-04, 4.64956761e-03, 8.90447890e-04, 4.61180740e-04,\n",
              "       8.43569633e-04, 1.33315213e-03, 1.33980925e-04, 2.03283974e-04,\n",
              "       0.00000000e+00, 2.47961938e-03, 3.76662352e-03, 1.35959745e-02,\n",
              "       1.61426708e-02, 7.25331753e-03, 1.62370689e-02, 1.58439160e-02,\n",
              "       2.71435190e-03, 1.09515937e-02, 5.36880818e-03, 7.84370353e-03,\n",
              "       9.01901438e-03, 1.15112900e-02, 7.57567554e-03, 7.54299103e-03,\n",
              "       4.85900028e-03, 8.55767297e-03, 2.96330388e-03, 8.08026803e-03,\n",
              "       7.86837954e-03, 3.55613947e-03, 5.20020528e-03, 5.38862686e-03,\n",
              "       6.28034317e-03, 8.04654287e-03, 6.82333074e-03, 9.43293783e-03,\n",
              "       5.34229315e-03, 3.98211107e-03, 5.96862906e-03, 7.60514459e-03,\n",
              "       8.82061626e-03, 5.74446062e-03, 6.32317512e-03, 6.16969050e-03,\n",
              "       6.89299605e-03, 5.36651102e-03, 5.83632961e-03, 3.84275801e-03,\n",
              "       9.52239467e-04, 1.24850570e-02, 1.05203352e-02, 6.31337378e-03,\n",
              "       7.55896025e-03, 3.47108953e-03, 4.42862418e-03, 5.67515992e-03,\n",
              "       3.71873696e-03, 7.48263870e-03, 6.93519091e-03, 3.54530997e-03,\n",
              "       3.74841252e-03, 2.19159322e-03, 5.74263633e-03, 2.30260569e-03,\n",
              "       3.17213474e-03, 1.86442990e-03, 2.30913081e-03, 4.95947822e-03,\n",
              "       5.87710291e-03, 6.99107068e-03, 3.78831892e-03, 5.55681294e-03,\n",
              "       5.25883270e-03, 6.54751462e-03, 8.66366906e-03, 7.45102675e-03,\n",
              "       5.37677547e-03, 6.14147919e-03, 3.44196136e-03, 5.28967824e-03,\n",
              "       2.54455462e-03, 3.21431745e-03, 3.14852019e-03, 5.71889107e-03,\n",
              "       7.87511196e-03, 7.38413004e-03, 5.61191377e-03, 8.21539511e-03,\n",
              "       7.01653470e-03, 4.54611158e-03, 6.58011655e-03, 1.11369065e-02,\n",
              "       7.12312610e-03, 7.76866149e-03, 6.39851174e-03, 9.34310619e-03,\n",
              "       6.50562205e-03, 9.78081037e-03, 6.82874984e-03, 1.51731203e-03,\n",
              "       4.17192837e-03, 3.19025126e-03, 5.51213637e-03, 2.97412649e-03,\n",
              "       4.62618633e-03, 4.86687629e-03, 6.63675273e-03, 2.70842986e-03,\n",
              "       2.49056217e-03, 2.36790613e-03, 2.79430194e-03, 2.36987332e-03,\n",
              "       3.36274758e-03, 3.31302273e-03, 1.70229923e-03, 3.00489037e-03,\n",
              "       3.93250211e-03, 3.72680058e-03, 5.92541044e-03, 7.38116333e-03,\n",
              "       7.84955901e-03, 6.95714683e-03, 5.32707564e-03, 2.39946099e-03,\n",
              "       3.53683854e-03, 2.63945860e-03, 3.35499230e-03, 2.36124250e-03,\n",
              "       1.08636675e-03, 3.22179618e-03, 2.72151847e-03, 3.69592496e-03,\n",
              "       4.32739557e-03, 6.65961998e-03, 2.98749972e-03, 1.78573749e-03,\n",
              "       1.60873540e-03, 4.72801048e-03, 2.26836474e-03, 2.85522004e-03,\n",
              "       1.40291201e-03, 1.75160223e-03, 3.00659990e-03, 5.05400530e-03,\n",
              "       4.16955774e-03, 8.09834913e-03, 2.75469240e-03, 3.63938376e-03,\n",
              "       2.04987150e-03, 3.01928371e-03, 1.35571902e-03, 2.78095603e-03,\n",
              "       2.10834733e-03, 6.21730187e-04, 3.43324720e-03, 2.14943069e-03,\n",
              "       7.23387364e-03, 3.16447627e-03, 1.92009143e-03, 1.06430546e-03,\n",
              "       2.35539130e-03, 9.05476355e-04, 1.39210175e-03, 1.21505861e-03,\n",
              "       2.46463918e-03, 5.30671694e-03, 6.48924240e-03, 5.32219968e-03,\n",
              "       3.50274456e-03, 2.83347672e-03, 4.66305912e-03, 2.56013346e-03,\n",
              "       4.16178425e-03, 1.52678228e-03, 9.37511509e-04, 7.39092216e-03,\n",
              "       4.26333337e-03, 2.32172723e-03, 1.99046773e-03, 5.00904153e-03,\n",
              "       2.47439278e-03, 2.70344492e-03, 3.06826481e-03, 5.10367397e-03,\n",
              "       4.61860917e-03, 5.18940010e-03, 4.52958993e-03, 6.70182234e-03,\n",
              "       5.46998016e-03, 5.89406812e-03, 5.81547585e-03, 4.79190634e-04,\n",
              "       2.18773434e-03, 1.54814769e-03, 2.60977305e-03, 1.09385813e-03,\n",
              "       2.84613613e-03, 1.01356069e-03, 8.14209235e-04, 1.42271373e-03,\n",
              "       2.70501897e-03, 1.48747786e-03, 1.63723456e-03, 5.74708255e-04,\n",
              "       1.91033632e-04, 2.56815660e-03, 7.96626262e-04, 1.81082778e-03,\n",
              "       5.51356810e-04, 1.45100470e-03, 1.58807626e-03, 1.86562738e-03,\n",
              "       1.89240325e-03, 4.60110995e-04, 8.49003441e-04, 7.94938876e-04,\n",
              "       4.61899952e-04, 4.24676474e-04, 6.96056338e-05])"
            ]
          },
          "metadata": {
            "tags": []
          },
          "execution_count": 158
        }
      ]
    },
    {
      "cell_type": "code",
      "metadata": {
        "id": "A_Kiqjjqahuj",
        "outputId": "b43a8bdb-1244-4e49-9d1e-a6db175556ab",
        "colab": {
          "base_uri": "https://localhost:8080/"
        }
      },
      "source": [
        "print(f'Importancias mayores a cero: {(rf.feature_importances_>0).sum()}')"
      ],
      "execution_count": 159,
      "outputs": [
        {
          "output_type": "stream",
          "text": [
            "Importancias mayores a cero: 229\n"
          ],
          "name": "stdout"
        }
      ]
    },
    {
      "cell_type": "code",
      "metadata": {
        "id": "xy7WoJW-Up_8",
        "outputId": "dcd4e892-da9a-4a7f-bed8-ef4a69fa0ce2",
        "colab": {
          "base_uri": "https://localhost:8080/"
        }
      },
      "source": [
        "print('================ Resultados Random Forest =================\\n')\n",
        "print(classification_report(y_test, rf.predict(X_test_cod)))"
      ],
      "execution_count": 160,
      "outputs": [
        {
          "output_type": "stream",
          "text": [
            "================ Resultados Random Forest =================\n",
            "\n",
            "              precision    recall  f1-score   support\n",
            "\n",
            "           0       0.55      0.58      0.56        50\n",
            "           1       0.86      0.84      0.85       150\n",
            "\n",
            "    accuracy                           0.78       200\n",
            "   macro avg       0.70      0.71      0.71       200\n",
            "weighted avg       0.78      0.78      0.78       200\n",
            "\n"
          ],
          "name": "stdout"
        }
      ]
    },
    {
      "cell_type": "code",
      "metadata": {
        "id": "rt_M7VK7ao_v",
        "outputId": "50b86c99-7e49-4313-eea3-2348d3af00aa",
        "colab": {
          "base_uri": "https://localhost:8080/"
        }
      },
      "source": [
        "gbt = GradientBoostingClassifier()\n",
        "gbt.fit(X_train_cod, y_train)"
      ],
      "execution_count": 161,
      "outputs": [
        {
          "output_type": "execute_result",
          "data": {
            "text/plain": [
              "GradientBoostingClassifier()"
            ]
          },
          "metadata": {
            "tags": []
          },
          "execution_count": 161
        }
      ]
    },
    {
      "cell_type": "code",
      "metadata": {
        "id": "Bd8uJWj8ao_0",
        "outputId": "9ab51171-0c51-4916-e0e4-7cc80fac565d",
        "colab": {
          "base_uri": "https://localhost:8080/"
        }
      },
      "source": [
        "gbt.feature_importances_"
      ],
      "execution_count": 162,
      "outputs": [
        {
          "output_type": "execute_result",
          "data": {
            "text/plain": [
              "array([0.00000000e+00, 0.00000000e+00, 0.00000000e+00, 0.00000000e+00,\n",
              "       0.00000000e+00, 0.00000000e+00, 4.77346683e-04, 2.67723012e-05,\n",
              "       0.00000000e+00, 0.00000000e+00, 0.00000000e+00, 0.00000000e+00,\n",
              "       0.00000000e+00, 0.00000000e+00, 3.52720421e-05, 0.00000000e+00,\n",
              "       0.00000000e+00, 0.00000000e+00, 0.00000000e+00, 0.00000000e+00,\n",
              "       0.00000000e+00, 0.00000000e+00, 5.42973149e-03, 5.38215262e-03,\n",
              "       3.78338500e-03, 1.30600279e-02, 1.08647813e-01, 1.34727833e-02,\n",
              "       2.19039539e-03, 2.75180936e-02, 2.31503472e-03, 6.08520610e-03,\n",
              "       4.53976113e-02, 3.21476816e-02, 7.07367261e-03, 0.00000000e+00,\n",
              "       9.17097800e-04, 1.89002535e-03, 0.00000000e+00, 9.82575543e-04,\n",
              "       3.19193646e-05, 1.00720390e-04, 3.12191783e-03, 1.71907784e-03,\n",
              "       5.72995253e-03, 2.28304313e-02, 5.25896195e-03, 3.23274457e-02,\n",
              "       0.00000000e+00, 1.37689264e-06, 2.88757018e-03, 1.25065845e-02,\n",
              "       1.96510576e-02, 0.00000000e+00, 1.03978583e-03, 1.95253712e-03,\n",
              "       2.69481789e-03, 1.40341691e-02, 2.91564513e-04, 2.82985756e-05,\n",
              "       0.00000000e+00, 3.36324645e-02, 3.70866547e-02, 1.07295931e-02,\n",
              "       1.03927695e-02, 0.00000000e+00, 2.34713347e-03, 2.27452700e-02,\n",
              "       2.76547406e-03, 1.34543828e-02, 8.33142542e-03, 1.44801277e-03,\n",
              "       1.20293135e-03, 3.51332433e-08, 1.04736542e-02, 1.49033247e-03,\n",
              "       7.70480553e-04, 0.00000000e+00, 0.00000000e+00, 1.53383756e-03,\n",
              "       9.88105350e-03, 1.42051241e-02, 1.22794292e-03, 4.08491635e-03,\n",
              "       5.52906330e-03, 3.55092150e-03, 1.53704105e-02, 8.08722333e-03,\n",
              "       8.77033055e-03, 3.94346346e-03, 8.34904100e-05, 1.87527831e-03,\n",
              "       1.42768141e-03, 0.00000000e+00, 3.84809440e-03, 0.00000000e+00,\n",
              "       5.86805002e-03, 1.60679546e-02, 3.24899724e-03, 2.65992377e-03,\n",
              "       0.00000000e+00, 8.98419286e-04, 1.22115166e-02, 2.48639156e-02,\n",
              "       1.79034297e-03, 4.80804640e-03, 1.45134993e-02, 5.53437455e-03,\n",
              "       1.02591271e-03, 4.43232661e-03, 3.58550304e-04, 5.98664655e-04,\n",
              "       4.58563650e-04, 3.43899408e-04, 1.30478259e-02, 2.94354749e-03,\n",
              "       1.28435580e-02, 6.01870512e-04, 1.44823796e-02, 1.25973608e-04,\n",
              "       4.93027682e-03, 2.82921050e-03, 3.34124233e-03, 0.00000000e+00,\n",
              "       0.00000000e+00, 0.00000000e+00, 4.11816149e-04, 1.97299145e-03,\n",
              "       3.57052924e-03, 6.08920768e-03, 2.18831557e-03, 7.75328903e-03,\n",
              "       3.06150356e-03, 1.14324178e-02, 5.25948150e-03, 6.40777796e-04,\n",
              "       1.97489252e-03, 2.52079000e-03, 2.98964654e-03, 0.00000000e+00,\n",
              "       0.00000000e+00, 1.04427065e-04, 0.00000000e+00, 2.92700851e-03,\n",
              "       8.80890799e-04, 7.82513080e-03, 7.21773696e-04, 1.29667024e-03,\n",
              "       3.16314737e-04, 4.53574475e-03, 1.84754143e-03, 7.50512907e-04,\n",
              "       0.00000000e+00, 0.00000000e+00, 1.66788703e-03, 6.86211048e-03,\n",
              "       4.71983162e-03, 1.13608485e-03, 1.55483906e-03, 5.53306503e-03,\n",
              "       1.34115774e-04, 1.48387772e-03, 0.00000000e+00, 0.00000000e+00,\n",
              "       0.00000000e+00, 0.00000000e+00, 2.29691252e-03, 0.00000000e+00,\n",
              "       0.00000000e+00, 4.05995579e-03, 3.05130795e-03, 0.00000000e+00,\n",
              "       0.00000000e+00, 0.00000000e+00, 0.00000000e+00, 0.00000000e+00,\n",
              "       0.00000000e+00, 1.98019288e-03, 2.14865534e-03, 2.58974613e-02,\n",
              "       1.48347270e-03, 2.19465041e-03, 6.43340478e-04, 1.73917154e-03,\n",
              "       5.05593195e-03, 0.00000000e+00, 0.00000000e+00, 8.37637097e-03,\n",
              "       3.94213990e-03, 1.11897260e-03, 6.68124032e-05, 8.08333541e-04,\n",
              "       3.99948261e-04, 1.70666557e-03, 0.00000000e+00, 0.00000000e+00,\n",
              "       5.19200436e-03, 7.36646386e-03, 5.42726338e-03, 3.30601255e-03,\n",
              "       6.56658316e-03, 0.00000000e+00, 7.67450438e-05, 0.00000000e+00,\n",
              "       0.00000000e+00, 0.00000000e+00, 1.07487565e-03, 0.00000000e+00,\n",
              "       9.42588983e-06, 0.00000000e+00, 0.00000000e+00, 0.00000000e+00,\n",
              "       7.07443256e-03, 0.00000000e+00, 1.70163320e-03, 0.00000000e+00,\n",
              "       0.00000000e+00, 9.88168172e-04, 0.00000000e+00, 0.00000000e+00,\n",
              "       0.00000000e+00, 0.00000000e+00, 0.00000000e+00, 1.09742313e-03,\n",
              "       3.40497620e-04, 0.00000000e+00, 4.85534271e-04, 0.00000000e+00,\n",
              "       0.00000000e+00, 0.00000000e+00, 0.00000000e+00])"
            ]
          },
          "metadata": {
            "tags": []
          },
          "execution_count": 162
        }
      ]
    },
    {
      "cell_type": "code",
      "metadata": {
        "id": "A5Wiojljao_1",
        "outputId": "5c3ce1da-7408-46ef-9420-6e6d0afdea07",
        "colab": {
          "base_uri": "https://localhost:8080/"
        }
      },
      "source": [
        "print(f'Importancias mayores a cero: {(gbt.feature_importances_>0).sum()}')"
      ],
      "execution_count": 163,
      "outputs": [
        {
          "output_type": "stream",
          "text": [
            "Importancias mayores a cero: 156\n"
          ],
          "name": "stdout"
        }
      ]
    },
    {
      "cell_type": "code",
      "metadata": {
        "id": "jZPp-SeYao_1",
        "outputId": "fca46be3-1857-4a72-b740-52188cf3982f",
        "colab": {
          "base_uri": "https://localhost:8080/"
        }
      },
      "source": [
        "print('================ Resultados Gradient Boosting Trees =================\\n')\n",
        "print(classification_report(y_test, gbt.predict(X_test_cod)))"
      ],
      "execution_count": 164,
      "outputs": [
        {
          "output_type": "stream",
          "text": [
            "================ Resultados Gradient Boosting Trees =================\n",
            "\n",
            "              precision    recall  f1-score   support\n",
            "\n",
            "           0       0.56      0.60      0.58        50\n",
            "           1       0.86      0.84      0.85       150\n",
            "\n",
            "    accuracy                           0.78       200\n",
            "   macro avg       0.71      0.72      0.71       200\n",
            "weighted avg       0.79      0.78      0.78       200\n",
            "\n"
          ],
          "name": "stdout"
        }
      ]
    },
    {
      "cell_type": "markdown",
      "metadata": {
        "id": "i7IZdBb_L-fK"
      },
      "source": [
        "# Wrapper Methods"
      ]
    },
    {
      "cell_type": "code",
      "metadata": {
        "id": "oVHqPikPL98l"
      },
      "source": [
        "from sklearn.feature_selection import SequentialFeatureSelector, RFECV\n",
        "from sklearn.neighbors import KNeighborsClassifier"
      ],
      "execution_count": 165,
      "outputs": []
    },
    {
      "cell_type": "markdown",
      "metadata": {
        "id": "cXJRHc0ML-j5"
      },
      "source": [
        "## Stepwise selection"
      ]
    },
    {
      "cell_type": "markdown",
      "metadata": {
        "id": "D5Z5wdN8qMvg"
      },
      "source": [
        "### Forward"
      ]
    },
    {
      "cell_type": "code",
      "metadata": {
        "id": "k74Ogj9foWAo"
      },
      "source": [
        "rf = RandomForestClassifier(n_estimators=25)"
      ],
      "execution_count": 166,
      "outputs": []
    },
    {
      "cell_type": "code",
      "metadata": {
        "id": "rZCnhPl8og48"
      },
      "source": [
        "n_features = 10"
      ],
      "execution_count": 167,
      "outputs": []
    },
    {
      "cell_type": "code",
      "metadata": {
        "id": "T06N3rDLL-mO"
      },
      "source": [
        "forward_stepwise = SequentialFeatureSelector(rf,n_features_to_select=n_features, direction='forward', cv=2)"
      ],
      "execution_count": 168,
      "outputs": []
    },
    {
      "cell_type": "code",
      "metadata": {
        "id": "U-VkQKbmowzo",
        "outputId": "8955efda-ff9d-4c77-c077-a173f940fe50",
        "colab": {
          "base_uri": "https://localhost:8080/"
        }
      },
      "source": [
        "forward_stepwise.fit(X_train_cod1, y_train) #X_train_cod1 -> 20 features"
      ],
      "execution_count": 169,
      "outputs": [
        {
          "output_type": "execute_result",
          "data": {
            "text/plain": [
              "SequentialFeatureSelector(cv=2,\n",
              "                          estimator=RandomForestClassifier(n_estimators=25),\n",
              "                          n_features_to_select=10)"
            ]
          },
          "metadata": {
            "tags": []
          },
          "execution_count": 169
        }
      ]
    },
    {
      "cell_type": "code",
      "metadata": {
        "id": "fPGyg1fRpo04",
        "outputId": "6d27345d-41cf-4c64-ffdb-255ad42019a0",
        "colab": {
          "base_uri": "https://localhost:8080/"
        }
      },
      "source": [
        "forward_stepwise.get_support()"
      ],
      "execution_count": 170,
      "outputs": [
        {
          "output_type": "execute_result",
          "data": {
            "text/plain": [
              "array([ True,  True,  True, False, False,  True,  True, False,  True,\n",
              "        True, False, False, False, False, False, False,  True, False,\n",
              "        True,  True])"
            ]
          },
          "metadata": {
            "tags": []
          },
          "execution_count": 170
        }
      ]
    },
    {
      "cell_type": "code",
      "metadata": {
        "id": "PkzGuFL6piOc"
      },
      "source": [
        "X_train_frw = forward_stepwise.transform(X_train_cod1)\n",
        "X_test_frw = forward_stepwise.transform(X_test_cod1)"
      ],
      "execution_count": 171,
      "outputs": []
    },
    {
      "cell_type": "code",
      "metadata": {
        "id": "uVnBkWLjp3oc",
        "outputId": "f76d2887-8b40-4fc1-f2ce-d31ba2b65dd3",
        "colab": {
          "base_uri": "https://localhost:8080/"
        }
      },
      "source": [
        "rf_frw = RandomForestClassifier(n_estimators=25)\n",
        "rf_frw.fit(X_train_frw, y_train)"
      ],
      "execution_count": 172,
      "outputs": [
        {
          "output_type": "execute_result",
          "data": {
            "text/plain": [
              "RandomForestClassifier(n_estimators=25)"
            ]
          },
          "metadata": {
            "tags": []
          },
          "execution_count": 172
        }
      ]
    },
    {
      "cell_type": "code",
      "metadata": {
        "id": "pIy9vmaoow8m",
        "outputId": "a9d5130d-9119-4728-c238-0c86d7027576",
        "colab": {
          "base_uri": "https://localhost:8080/"
        }
      },
      "source": [
        "print('================ Resultados Forward Stepwise Random Forest =================\\n')\n",
        "print(classification_report(y_test, rf_frw.predict(X_test_frw)))"
      ],
      "execution_count": 173,
      "outputs": [
        {
          "output_type": "stream",
          "text": [
            "================ Resultados Forward Stepwise Random Forest =================\n",
            "\n",
            "              precision    recall  f1-score   support\n",
            "\n",
            "           0       0.51      0.52      0.51        50\n",
            "           1       0.84      0.83      0.84       150\n",
            "\n",
            "    accuracy                           0.76       200\n",
            "   macro avg       0.67      0.68      0.68       200\n",
            "weighted avg       0.76      0.76      0.76       200\n",
            "\n"
          ],
          "name": "stdout"
        }
      ]
    },
    {
      "cell_type": "markdown",
      "metadata": {
        "id": "mcCxAJmGqPsN"
      },
      "source": [
        "### Backward"
      ]
    },
    {
      "cell_type": "code",
      "metadata": {
        "id": "ZS_PAdS4qsA6"
      },
      "source": [
        "rf = RandomForestClassifier(n_estimators=25)"
      ],
      "execution_count": 174,
      "outputs": []
    },
    {
      "cell_type": "code",
      "metadata": {
        "id": "WkQQfigmqsBA"
      },
      "source": [
        "n_features = 10"
      ],
      "execution_count": 175,
      "outputs": []
    },
    {
      "cell_type": "code",
      "metadata": {
        "id": "vhzTQjPRqsBA"
      },
      "source": [
        "backward_stepwise = SequentialFeatureSelector(rf,n_features_to_select=n_features, direction='backward', cv=2)"
      ],
      "execution_count": 176,
      "outputs": []
    },
    {
      "cell_type": "code",
      "metadata": {
        "id": "zpHIl9U9qsBA",
        "outputId": "6b3dea21-ac99-4627-b1f5-7e9680719ad3",
        "colab": {
          "base_uri": "https://localhost:8080/"
        }
      },
      "source": [
        "backward_stepwise.fit(X_train_cod1, y_train) #X_train_cod1 -> 20 features"
      ],
      "execution_count": 177,
      "outputs": [
        {
          "output_type": "execute_result",
          "data": {
            "text/plain": [
              "SequentialFeatureSelector(cv=2, direction='backward',\n",
              "                          estimator=RandomForestClassifier(n_estimators=25),\n",
              "                          n_features_to_select=10)"
            ]
          },
          "metadata": {
            "tags": []
          },
          "execution_count": 177
        }
      ]
    },
    {
      "cell_type": "code",
      "metadata": {
        "id": "HLBJIZxyqsBB",
        "outputId": "15355289-9173-4207-c6a5-d63361089fd6",
        "colab": {
          "base_uri": "https://localhost:8080/"
        }
      },
      "source": [
        "backward_stepwise.get_support()"
      ],
      "execution_count": 178,
      "outputs": [
        {
          "output_type": "execute_result",
          "data": {
            "text/plain": [
              "array([ True,  True,  True, False,  True,  True,  True, False,  True,\n",
              "        True, False, False, False,  True,  True, False, False, False,\n",
              "       False, False])"
            ]
          },
          "metadata": {
            "tags": []
          },
          "execution_count": 178
        }
      ]
    },
    {
      "cell_type": "code",
      "metadata": {
        "id": "mDVZMxytqsBB"
      },
      "source": [
        "X_train_bkw = backward_stepwise.transform(X_train_cod1)\n",
        "X_test_bkw = backward_stepwise.transform(X_test_cod1)"
      ],
      "execution_count": 179,
      "outputs": []
    },
    {
      "cell_type": "code",
      "metadata": {
        "id": "dFbJ-Wa8qsBB",
        "outputId": "d20100fa-8e89-4ce6-b27a-f41f32d79fab",
        "colab": {
          "base_uri": "https://localhost:8080/"
        }
      },
      "source": [
        "rf_bkw = RandomForestClassifier(n_estimators=25)\n",
        "rf_bkw.fit(X_train_bkw, y_train)"
      ],
      "execution_count": 180,
      "outputs": [
        {
          "output_type": "execute_result",
          "data": {
            "text/plain": [
              "RandomForestClassifier(n_estimators=25)"
            ]
          },
          "metadata": {
            "tags": []
          },
          "execution_count": 180
        }
      ]
    },
    {
      "cell_type": "code",
      "metadata": {
        "id": "AoLktoLvqsBB",
        "outputId": "b254a82d-3734-40f4-ce5a-7c6b0d3e9fe7",
        "colab": {
          "base_uri": "https://localhost:8080/"
        }
      },
      "source": [
        "print('================ Resultados Backward Stepwise Random Forest =================\\n')\n",
        "print(classification_report(y_test, rf_bkw.predict(X_test_bkw)))"
      ],
      "execution_count": 181,
      "outputs": [
        {
          "output_type": "stream",
          "text": [
            "================ Resultados Backward Stepwise Random Forest =================\n",
            "\n",
            "              precision    recall  f1-score   support\n",
            "\n",
            "           0       0.56      0.58      0.57        50\n",
            "           1       0.86      0.85      0.85       150\n",
            "\n",
            "    accuracy                           0.78       200\n",
            "   macro avg       0.71      0.71      0.71       200\n",
            "weighted avg       0.78      0.78      0.78       200\n",
            "\n"
          ],
          "name": "stdout"
        }
      ]
    },
    {
      "cell_type": "markdown",
      "metadata": {
        "id": "aleXoWk7L-tH"
      },
      "source": [
        "## Recursive Feature Elimination"
      ]
    },
    {
      "cell_type": "code",
      "metadata": {
        "id": "OtRcITEDrhU9"
      },
      "source": [
        "rf = RandomForestClassifier(n_estimators=25)"
      ],
      "execution_count": 182,
      "outputs": []
    },
    {
      "cell_type": "code",
      "metadata": {
        "id": "j08IzeI4rhVD"
      },
      "source": [
        "n_features = 10"
      ],
      "execution_count": 183,
      "outputs": []
    },
    {
      "cell_type": "code",
      "metadata": {
        "id": "dTmp81ggrhVE"
      },
      "source": [
        "rfe = RFECV(rf,min_features_to_select=n_features, cv=2)"
      ],
      "execution_count": 184,
      "outputs": []
    },
    {
      "cell_type": "code",
      "metadata": {
        "id": "ZWbPU0zrrhVE",
        "outputId": "c510a04e-19b1-4247-e6f0-377eb1513720",
        "colab": {
          "base_uri": "https://localhost:8080/"
        }
      },
      "source": [
        "rfe.fit(X_train_cod1, y_train) #X_train_cod1 -> 20 features"
      ],
      "execution_count": 185,
      "outputs": [
        {
          "output_type": "execute_result",
          "data": {
            "text/plain": [
              "RFECV(cv=2, estimator=RandomForestClassifier(n_estimators=25),\n",
              "      min_features_to_select=10)"
            ]
          },
          "metadata": {
            "tags": []
          },
          "execution_count": 185
        }
      ]
    },
    {
      "cell_type": "code",
      "metadata": {
        "id": "02id7Xi_rhVE",
        "outputId": "c78c5a8e-2556-4efb-f1ae-91ccc0448782",
        "colab": {
          "base_uri": "https://localhost:8080/"
        }
      },
      "source": [
        "rfe.get_support()"
      ],
      "execution_count": 186,
      "outputs": [
        {
          "output_type": "execute_result",
          "data": {
            "text/plain": [
              "array([ True,  True,  True,  True,  True,  True,  True,  True,  True,\n",
              "        True,  True,  True,  True,  True,  True,  True,  True, False,\n",
              "        True, False])"
            ]
          },
          "metadata": {
            "tags": []
          },
          "execution_count": 186
        }
      ]
    },
    {
      "cell_type": "code",
      "metadata": {
        "id": "6dugMBpIrhVF"
      },
      "source": [
        "X_train_rfe = rfe.transform(X_train_cod1)\n",
        "X_test_ref = rfe.transform(X_test_cod1)"
      ],
      "execution_count": 187,
      "outputs": []
    },
    {
      "cell_type": "code",
      "metadata": {
        "id": "Vh6S9F7qrhVF",
        "outputId": "06c468cd-01e9-4ee5-9092-3c4eace48378",
        "colab": {
          "base_uri": "https://localhost:8080/"
        }
      },
      "source": [
        "rf_rfe = RandomForestClassifier(n_estimators=25)\n",
        "rf_rfe.fit(X_train_rfe, y_train)"
      ],
      "execution_count": 188,
      "outputs": [
        {
          "output_type": "execute_result",
          "data": {
            "text/plain": [
              "RandomForestClassifier(n_estimators=25)"
            ]
          },
          "metadata": {
            "tags": []
          },
          "execution_count": 188
        }
      ]
    },
    {
      "cell_type": "code",
      "metadata": {
        "id": "AZMrofE6rhVF",
        "outputId": "a322e0fd-d78c-4f2c-df00-a42d4a52b648",
        "colab": {
          "base_uri": "https://localhost:8080/"
        }
      },
      "source": [
        "print('================ Resultados Recursive Feature Elimination Random Forests =================\\n')\n",
        "print(classification_report(y_test, rf_rfe.predict(X_test_ref)))"
      ],
      "execution_count": 189,
      "outputs": [
        {
          "output_type": "stream",
          "text": [
            "================ Resultados Recursive Feature Elimination Random Forests =================\n",
            "\n",
            "              precision    recall  f1-score   support\n",
            "\n",
            "           0       0.50      0.44      0.47        50\n",
            "           1       0.82      0.85      0.84       150\n",
            "\n",
            "    accuracy                           0.75       200\n",
            "   macro avg       0.66      0.65      0.65       200\n",
            "weighted avg       0.74      0.75      0.74       200\n",
            "\n"
          ],
          "name": "stdout"
        }
      ]
    },
    {
      "cell_type": "code",
      "metadata": {
        "id": "V7Cu3tYxsCTW"
      },
      "source": [
        ""
      ],
      "execution_count": 189,
      "outputs": []
    },
    {
      "cell_type": "markdown",
      "metadata": {
        "id": "1W3FG7f5L-RK"
      },
      "source": [
        "# Filtros"
      ]
    },
    {
      "cell_type": "code",
      "metadata": {
        "id": "i9m2SCfCL-WT"
      },
      "source": [
        "from sklearn.feature_selection import SelectKBest, chi2, f_classif, mutual_info_classif"
      ],
      "execution_count": 190,
      "outputs": []
    },
    {
      "cell_type": "markdown",
      "metadata": {
        "id": "jaZ1kK9nvLZn"
      },
      "source": [
        "## Filtro utilizando Chi2"
      ]
    },
    {
      "cell_type": "code",
      "metadata": {
        "id": "MJ1vB65lL-Y1",
        "outputId": "005bf392-248b-44a0-b16c-53ce69c39a81",
        "colab": {
          "base_uri": "https://localhost:8080/"
        }
      },
      "source": [
        "chi2_best = SelectKBest(chi2, k=5)\n",
        "chi2_best.fit_transform(X_train_cod1, y_train)"
      ],
      "execution_count": 191,
      "outputs": [
        {
          "output_type": "execute_result",
          "data": {
            "text/plain": [
              "array([[8.74023438e-01, 1.80000000e+01, 1.53000000e+03, 3.00000000e+00,\n",
              "        3.20000000e+01],\n",
              "       [6.11944444e-01, 1.80000000e+01, 4.29700000e+03, 4.00000000e+00,\n",
              "        4.00000000e+01],\n",
              "       [6.11944444e-01, 1.80000000e+01, 1.23900000e+03, 4.00000000e+00,\n",
              "        6.10000000e+01],\n",
              "       ...,\n",
              "       [6.11944444e-01, 1.80000000e+01, 1.92800000e+03, 2.00000000e+00,\n",
              "        3.10000000e+01],\n",
              "       [8.74023438e-01, 6.00000000e+00, 1.54300000e+03, 4.00000000e+00,\n",
              "        3.30000000e+01],\n",
              "       [8.74023438e-01, 1.20000000e+01, 1.18500000e+03, 3.00000000e+00,\n",
              "        2.70000000e+01]])"
            ]
          },
          "metadata": {
            "tags": []
          },
          "execution_count": 191
        }
      ]
    },
    {
      "cell_type": "code",
      "metadata": {
        "id": "eDg_cqkmtlz6",
        "outputId": "4747ffd2-c00c-499a-e2c3-250046c2022c",
        "colab": {
          "base_uri": "https://localhost:8080/"
        }
      },
      "source": [
        "chi2_best.fit_transform(X_train_cod1, y_train).shape"
      ],
      "execution_count": 192,
      "outputs": [
        {
          "output_type": "execute_result",
          "data": {
            "text/plain": [
              "(800, 5)"
            ]
          },
          "metadata": {
            "tags": []
          },
          "execution_count": 192
        }
      ]
    },
    {
      "cell_type": "code",
      "metadata": {
        "id": "gl6v1LLHuXsn",
        "outputId": "4ce12097-a663-4e56-8af3-b2d7a61a0abb",
        "colab": {
          "base_uri": "https://localhost:8080/"
        }
      },
      "source": [
        "chi2_best.get_support()"
      ],
      "execution_count": 193,
      "outputs": [
        {
          "output_type": "execute_result",
          "data": {
            "text/plain": [
              "array([ True,  True, False, False,  True, False, False,  True, False,\n",
              "       False, False, False,  True, False, False, False, False, False,\n",
              "       False, False])"
            ]
          },
          "metadata": {
            "tags": []
          },
          "execution_count": 193
        }
      ]
    },
    {
      "cell_type": "code",
      "metadata": {
        "id": "4v3R7CGEu8nP"
      },
      "source": [
        "X_train_chi2 = chi2_best.transform(X_train_cod1)\n",
        "X_test_chi2 = chi2_best.transform(X_test_cod1)"
      ],
      "execution_count": 194,
      "outputs": []
    },
    {
      "cell_type": "code",
      "metadata": {
        "id": "KAd60c6Bu8nR",
        "outputId": "7357a7d7-2bc3-4c83-e165-513833884b16",
        "colab": {
          "base_uri": "https://localhost:8080/"
        }
      },
      "source": [
        "rf_chi2 = RandomForestClassifier(n_estimators=25)\n",
        "rf_chi2.fit(X_train_chi2, y_train)"
      ],
      "execution_count": 195,
      "outputs": [
        {
          "output_type": "execute_result",
          "data": {
            "text/plain": [
              "RandomForestClassifier(n_estimators=25)"
            ]
          },
          "metadata": {
            "tags": []
          },
          "execution_count": 195
        }
      ]
    },
    {
      "cell_type": "code",
      "metadata": {
        "id": "da2eOiEcu8nR",
        "outputId": "d5671393-f11b-4516-cbe5-204c114cf818",
        "colab": {
          "base_uri": "https://localhost:8080/"
        }
      },
      "source": [
        "print('================ Resultados Chi2 Filter Random Forests =================\\n')\n",
        "print(classification_report(y_test, rf_chi2.predict(X_test_chi2)))"
      ],
      "execution_count": 196,
      "outputs": [
        {
          "output_type": "stream",
          "text": [
            "================ Resultados Chi2 Filter Random Forests =================\n",
            "\n",
            "              precision    recall  f1-score   support\n",
            "\n",
            "           0       0.39      0.40      0.40        50\n",
            "           1       0.80      0.79      0.80       150\n",
            "\n",
            "    accuracy                           0.69       200\n",
            "   macro avg       0.60      0.60      0.60       200\n",
            "weighted avg       0.70      0.69      0.70       200\n",
            "\n"
          ],
          "name": "stdout"
        }
      ]
    },
    {
      "cell_type": "code",
      "metadata": {
        "id": "6gPfvRvWuNu_"
      },
      "source": [
        ""
      ],
      "execution_count": 196,
      "outputs": []
    },
    {
      "cell_type": "markdown",
      "metadata": {
        "id": "WD9-S2tZvRvb"
      },
      "source": [
        "## Filtro utilizando ANOVA F-value"
      ]
    },
    {
      "cell_type": "code",
      "metadata": {
        "id": "tHtFPnJPvRvb",
        "outputId": "f8cb5fea-41a2-47f3-fb07-e3298ad59789",
        "colab": {
          "base_uri": "https://localhost:8080/"
        }
      },
      "source": [
        "fclass_best = SelectKBest(f_classif, k=5)\n",
        "fclass_best.fit_transform(X_train_cod1, y_train)"
      ],
      "execution_count": 197,
      "outputs": [
        {
          "output_type": "execute_result",
          "data": {
            "text/plain": [
              "array([[ 0.87402344, 18.        ,  0.82494703,  0.60795455,  0.6225    ],\n",
              "       [ 0.61194444, 18.        ,  0.671875  ,  0.67978896,  0.6225    ],\n",
              "       [ 0.61194444, 18.        ,  0.66358568,  0.55608974,  0.80327181],\n",
              "       ...,\n",
              "       [ 0.61194444, 18.        ,  0.82494703,  0.67978896,  0.6225    ],\n",
              "       [ 0.87402344,  6.        ,  0.66358568,  0.67978896,  0.87645349],\n",
              "       [ 0.87402344, 12.        ,  0.82494703,  0.63811728,  0.6225    ]])"
            ]
          },
          "metadata": {
            "tags": []
          },
          "execution_count": 197
        }
      ]
    },
    {
      "cell_type": "code",
      "metadata": {
        "id": "lSGSW7G0vRvg",
        "outputId": "86e87a3e-8c38-4d80-b685-07b3cff7e6cf",
        "colab": {
          "base_uri": "https://localhost:8080/"
        }
      },
      "source": [
        "fclass_best.fit_transform(X_train_cod1, y_train).shape"
      ],
      "execution_count": 198,
      "outputs": [
        {
          "output_type": "execute_result",
          "data": {
            "text/plain": [
              "(800, 5)"
            ]
          },
          "metadata": {
            "tags": []
          },
          "execution_count": 198
        }
      ]
    },
    {
      "cell_type": "code",
      "metadata": {
        "id": "cXeogGhTvRvg",
        "outputId": "5d3bb8e0-9b35-44f6-f74d-8c2539526178",
        "colab": {
          "base_uri": "https://localhost:8080/"
        }
      },
      "source": [
        "fclass_best.get_support()"
      ],
      "execution_count": 199,
      "outputs": [
        {
          "output_type": "execute_result",
          "data": {
            "text/plain": [
              "array([ True,  True,  True,  True, False,  True, False, False, False,\n",
              "       False, False, False, False, False, False, False, False, False,\n",
              "       False, False])"
            ]
          },
          "metadata": {
            "tags": []
          },
          "execution_count": 199
        }
      ]
    },
    {
      "cell_type": "code",
      "metadata": {
        "id": "2NFO7L7AvRvg"
      },
      "source": [
        "X_train_fclass = fclass_best.transform(X_train_cod1)\n",
        "X_test_fclass = fclass_best.transform(X_test_cod1)"
      ],
      "execution_count": 200,
      "outputs": []
    },
    {
      "cell_type": "code",
      "metadata": {
        "id": "jyQB7PGlvRvh",
        "outputId": "02d4b48d-903a-4a88-c44d-8fa8bc3b2462",
        "colab": {
          "base_uri": "https://localhost:8080/"
        }
      },
      "source": [
        "rf_fclass = RandomForestClassifier(n_estimators=25)\n",
        "rf_fclass.fit(X_train_fclass, y_train)"
      ],
      "execution_count": 201,
      "outputs": [
        {
          "output_type": "execute_result",
          "data": {
            "text/plain": [
              "RandomForestClassifier(n_estimators=25)"
            ]
          },
          "metadata": {
            "tags": []
          },
          "execution_count": 201
        }
      ]
    },
    {
      "cell_type": "code",
      "metadata": {
        "id": "9xHAQS1pvRvh",
        "outputId": "f2c1cf91-4930-4049-d90e-5ea72dc7bef9",
        "colab": {
          "base_uri": "https://localhost:8080/"
        }
      },
      "source": [
        "print('================ Resultados F-value Filter Random Forests =================\\n')\n",
        "print(classification_report(y_test, rf_fclass.predict(X_test_fclass)))"
      ],
      "execution_count": 202,
      "outputs": [
        {
          "output_type": "stream",
          "text": [
            "================ Resultados F-value Filter Random Forests =================\n",
            "\n",
            "              precision    recall  f1-score   support\n",
            "\n",
            "           0       0.50      0.54      0.52        50\n",
            "           1       0.84      0.82      0.83       150\n",
            "\n",
            "    accuracy                           0.75       200\n",
            "   macro avg       0.67      0.68      0.68       200\n",
            "weighted avg       0.76      0.75      0.75       200\n",
            "\n"
          ],
          "name": "stdout"
        }
      ]
    },
    {
      "cell_type": "code",
      "metadata": {
        "id": "h7Xpn04vudl_"
      },
      "source": [
        ""
      ],
      "execution_count": 202,
      "outputs": []
    },
    {
      "cell_type": "markdown",
      "metadata": {
        "id": "1BwjNo7Gv44j"
      },
      "source": [
        "## Filtro utilizando mutual information"
      ]
    },
    {
      "cell_type": "code",
      "metadata": {
        "id": "hQXa5cJov44l",
        "outputId": "a2768a55-d083-494f-fbfd-a03d9b14c90f",
        "colab": {
          "base_uri": "https://localhost:8080/"
        }
      },
      "source": [
        "mutual_best = SelectKBest(mutual_info_classif, k=5)\n",
        "mutual_best.fit_transform(X_train_cod1, y_train)"
      ],
      "execution_count": 203,
      "outputs": [
        {
          "output_type": "execute_result",
          "data": {
            "text/plain": [
              "array([[8.74023438e-01, 1.80000000e+01, 1.53000000e+03, 6.22500000e-01,\n",
              "        6.83035714e-01],\n",
              "       [6.11944444e-01, 1.80000000e+01, 4.29700000e+03, 6.22500000e-01,\n",
              "        7.37376847e-01],\n",
              "       [6.11944444e-01, 1.80000000e+01, 1.23900000e+03, 8.03271812e-01,\n",
              "        6.83035714e-01],\n",
              "       ...,\n",
              "       [6.11944444e-01, 1.80000000e+01, 1.92800000e+03, 6.22500000e-01,\n",
              "        5.58067376e-01],\n",
              "       [8.74023438e-01, 6.00000000e+00, 1.54300000e+03, 8.76453488e-01,\n",
              "        6.83035714e-01],\n",
              "       [8.74023438e-01, 1.20000000e+01, 1.18500000e+03, 6.22500000e-01,\n",
              "        6.83035714e-01]])"
            ]
          },
          "metadata": {
            "tags": []
          },
          "execution_count": 203
        }
      ]
    },
    {
      "cell_type": "code",
      "metadata": {
        "id": "gM0h_KDKv44l",
        "outputId": "b79ad0c9-5f60-476e-ec58-5040d90f3d6a",
        "colab": {
          "base_uri": "https://localhost:8080/"
        }
      },
      "source": [
        "mutual_best.fit_transform(X_train_cod1, y_train).shape"
      ],
      "execution_count": 204,
      "outputs": [
        {
          "output_type": "execute_result",
          "data": {
            "text/plain": [
              "(800, 5)"
            ]
          },
          "metadata": {
            "tags": []
          },
          "execution_count": 204
        }
      ]
    },
    {
      "cell_type": "code",
      "metadata": {
        "id": "KWa9xSOlv44m",
        "outputId": "788ac8fe-df92-445e-fb1d-d5252f66119c",
        "colab": {
          "base_uri": "https://localhost:8080/"
        }
      },
      "source": [
        "mutual_best.get_support()"
      ],
      "execution_count": 205,
      "outputs": [
        {
          "output_type": "execute_result",
          "data": {
            "text/plain": [
              "array([ True, False,  True,  True,  True, False, False, False, False,\n",
              "       False, False, False, False, False, False, False, False, False,\n",
              "       False,  True])"
            ]
          },
          "metadata": {
            "tags": []
          },
          "execution_count": 205
        }
      ]
    },
    {
      "cell_type": "code",
      "metadata": {
        "id": "BoP4pQIHv44m"
      },
      "source": [
        "X_train_mutual = mutual_best.transform(X_train_cod1)\n",
        "X_test_mutual = mutual_best.transform(X_test_cod1)"
      ],
      "execution_count": 206,
      "outputs": []
    },
    {
      "cell_type": "code",
      "metadata": {
        "id": "aq0z7DiEv44m",
        "outputId": "aa7a748c-1c4e-4c25-d9d8-1596e6b85ca3",
        "colab": {
          "base_uri": "https://localhost:8080/"
        }
      },
      "source": [
        "rf_mutual = RandomForestClassifier(n_estimators=25)\n",
        "rf_mutual.fit(X_train_mutual, y_train)"
      ],
      "execution_count": 207,
      "outputs": [
        {
          "output_type": "execute_result",
          "data": {
            "text/plain": [
              "RandomForestClassifier(n_estimators=25)"
            ]
          },
          "metadata": {
            "tags": []
          },
          "execution_count": 207
        }
      ]
    },
    {
      "cell_type": "code",
      "metadata": {
        "id": "nT0bkkVPv44m",
        "outputId": "ea59c6ef-e1fa-410d-e27a-2a8f9400ba78",
        "colab": {
          "base_uri": "https://localhost:8080/"
        }
      },
      "source": [
        "print('================ Resultados Mutual Information Filter Random Forests =================\\n')\n",
        "print(classification_report(y_test, rf_mutual.predict(X_test_mutual)))"
      ],
      "execution_count": 208,
      "outputs": [
        {
          "output_type": "stream",
          "text": [
            "================ Resultados Mutual Information Filter Random Forests =================\n",
            "\n",
            "              precision    recall  f1-score   support\n",
            "\n",
            "           0       0.41      0.56      0.47        50\n",
            "           1       0.83      0.73      0.78       150\n",
            "\n",
            "    accuracy                           0.69       200\n",
            "   macro avg       0.62      0.64      0.62       200\n",
            "weighted avg       0.73      0.69      0.70       200\n",
            "\n"
          ],
          "name": "stdout"
        }
      ]
    },
    {
      "cell_type": "code",
      "metadata": {
        "id": "BiSYx7DBwfvj"
      },
      "source": [
        ""
      ],
      "execution_count": 208,
      "outputs": []
    }
  ]
}